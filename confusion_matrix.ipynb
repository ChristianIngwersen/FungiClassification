{
 "cells": [
  {
   "cell_type": "code",
   "execution_count": 68,
   "id": "305b98f2-b178-449c-b0e4-76f330e251a0",
   "metadata": {},
   "outputs": [],
   "source": [
    "import os\n",
    "from glob import glob\n",
    "\n",
    "import pandas as pd\n",
    "import numpy as np\n",
    "import matplotlib.pyplot as plt"
   ]
  },
  {
   "cell_type": "code",
   "execution_count": 69,
   "id": "a24ac4b1-f6bd-4f36-8fef-98d78e941dfb",
   "metadata": {},
   "outputs": [],
   "source": [
    "df = pd.read_csv('data_with_labels.csv')"
   ]
  },
  {
   "cell_type": "code",
   "execution_count": 70,
   "id": "c52b1215-58e2-4a3f-9e7e-6b90530183f8",
   "metadata": {},
   "outputs": [
    {
     "data": {
      "text/html": [
       "<div>\n",
       "<style scoped>\n",
       "    .dataframe tbody tr th:only-of-type {\n",
       "        vertical-align: middle;\n",
       "    }\n",
       "\n",
       "    .dataframe tbody tr th {\n",
       "        vertical-align: top;\n",
       "    }\n",
       "\n",
       "    .dataframe thead th {\n",
       "        text-align: right;\n",
       "    }\n",
       "</style>\n",
       "<table border=\"1\" class=\"dataframe\">\n",
       "  <thead>\n",
       "    <tr style=\"text-align: right;\">\n",
       "      <th></th>\n",
       "      <th>image</th>\n",
       "      <th>class</th>\n",
       "    </tr>\n",
       "  </thead>\n",
       "  <tbody>\n",
       "    <tr>\n",
       "      <th>0</th>\n",
       "      <td>/work1/niejep/SummerSchoolChallenge2022/fungii...</td>\n",
       "      <td>0</td>\n",
       "    </tr>\n",
       "    <tr>\n",
       "      <th>1</th>\n",
       "      <td>/work1/niejep/SummerSchoolChallenge2022/fungii...</td>\n",
       "      <td>0</td>\n",
       "    </tr>\n",
       "    <tr>\n",
       "      <th>2</th>\n",
       "      <td>/work1/niejep/SummerSchoolChallenge2022/fungii...</td>\n",
       "      <td>1</td>\n",
       "    </tr>\n",
       "    <tr>\n",
       "      <th>3</th>\n",
       "      <td>/work1/niejep/SummerSchoolChallenge2022/fungii...</td>\n",
       "      <td>2</td>\n",
       "    </tr>\n",
       "    <tr>\n",
       "      <th>4</th>\n",
       "      <td>/work1/niejep/SummerSchoolChallenge2022/fungii...</td>\n",
       "      <td>2</td>\n",
       "    </tr>\n",
       "    <tr>\n",
       "      <th>...</th>\n",
       "      <td>...</td>\n",
       "      <td>...</td>\n",
       "    </tr>\n",
       "    <tr>\n",
       "      <th>3191</th>\n",
       "      <td>/work1/niejep/SummerSchoolChallenge2022/fungii...</td>\n",
       "      <td>165</td>\n",
       "    </tr>\n",
       "    <tr>\n",
       "      <th>3192</th>\n",
       "      <td>/work1/niejep/SummerSchoolChallenge2022/fungii...</td>\n",
       "      <td>31</td>\n",
       "    </tr>\n",
       "    <tr>\n",
       "      <th>3193</th>\n",
       "      <td>/work1/niejep/SummerSchoolChallenge2022/fungii...</td>\n",
       "      <td>34</td>\n",
       "    </tr>\n",
       "    <tr>\n",
       "      <th>3194</th>\n",
       "      <td>/work1/niejep/SummerSchoolChallenge2022/fungii...</td>\n",
       "      <td>115</td>\n",
       "    </tr>\n",
       "    <tr>\n",
       "      <th>3195</th>\n",
       "      <td>/work1/niejep/SummerSchoolChallenge2022/fungii...</td>\n",
       "      <td>58</td>\n",
       "    </tr>\n",
       "  </tbody>\n",
       "</table>\n",
       "<p>3196 rows × 2 columns</p>\n",
       "</div>"
      ],
      "text/plain": [
       "                                                  image  class\n",
       "0     /work1/niejep/SummerSchoolChallenge2022/fungii...      0\n",
       "1     /work1/niejep/SummerSchoolChallenge2022/fungii...      0\n",
       "2     /work1/niejep/SummerSchoolChallenge2022/fungii...      1\n",
       "3     /work1/niejep/SummerSchoolChallenge2022/fungii...      2\n",
       "4     /work1/niejep/SummerSchoolChallenge2022/fungii...      2\n",
       "...                                                 ...    ...\n",
       "3191  /work1/niejep/SummerSchoolChallenge2022/fungii...    165\n",
       "3192  /work1/niejep/SummerSchoolChallenge2022/fungii...     31\n",
       "3193  /work1/niejep/SummerSchoolChallenge2022/fungii...     34\n",
       "3194  /work1/niejep/SummerSchoolChallenge2022/fungii...    115\n",
       "3195  /work1/niejep/SummerSchoolChallenge2022/fungii...     58\n",
       "\n",
       "[3196 rows x 2 columns]"
      ]
     },
     "execution_count": 70,
     "metadata": {},
     "output_type": "execute_result"
    }
   ],
   "source": [
    "df"
   ]
  },
  {
   "cell_type": "code",
   "execution_count": 71,
   "id": "934ec30a-db85-408e-9cec-3c4f19733612",
   "metadata": {},
   "outputs": [],
   "source": [
    "g = df.groupby('class')"
   ]
  },
  {
   "cell_type": "code",
   "execution_count": 72,
   "id": "656dd1bc-6e0a-4ca9-b5bd-acfdf7690fed",
   "metadata": {},
   "outputs": [
    {
     "data": {
      "image/png": "[encoded data removed]",
      "text/plain": [
       "<Figure size 432x288 with 1 Axes>"
      ]
     },
     "metadata": {
      "needs_background": "light"
     },
     "output_type": "display_data"
    }
   ],
   "source": [
    "plt.hist(df['class'], bins=df['class'].max())\n",
    "plt.show()"
   ]
  },
  {
   "cell_type": "code",
   "execution_count": 73,
   "id": "823ffb08-4a09-4cae-b4fe-dd443196868a",
   "metadata": {},
   "outputs": [],
   "source": [
    "c = df['class'].to_numpy()"
   ]
  },
  {
   "cell_type": "code",
   "execution_count": 74,
   "id": "2288da46-6718-4b36-9efe-21bcd2230b48",
   "metadata": {},
   "outputs": [],
   "source": [
    "c_bins = np.bincount(c)"
   ]
  },
  {
   "cell_type": "code",
   "execution_count": 75,
   "id": "54616dbe-2a08-4c14-977b-81adcf532d6b",
   "metadata": {},
   "outputs": [],
   "source": [
    "sort = np.argsort(c_bins)[::-1]"
   ]
  },
  {
   "cell_type": "code",
   "execution_count": 76,
   "id": "67f4acb8-c2c4-4c56-aeb9-3886cec0aa49",
   "metadata": {},
   "outputs": [],
   "source": [
    "c_sorted = c_bins[sort]"
   ]
  },
  {
   "cell_type": "code",
   "execution_count": 77,
   "id": "1952bdc3-f16e-480c-9dca-9e566f7bb5fe",
   "metadata": {},
   "outputs": [
    {
     "data": {
      "image/png": "[encoded data removed]",
      "text/plain": [
       "<Figure size 432x288 with 1 Axes>"
      ]
     },
     "metadata": {
      "needs_background": "light"
     },
     "output_type": "display_data"
    }
   ],
   "source": [
    "plt.bar(range(len(c_sorted)), c_sorted)\n",
    "plt.show()"
   ]
  },
  {
   "cell_type": "code",
   "execution_count": 78,
   "id": "1395769b-7424-4b78-85eb-60c604f4cb64",
   "metadata": {},
   "outputs": [
    {
     "data": {
      "image/png": "[encoded data removed]",
      "text/plain": [
       "<Figure size 432x288 with 1 Axes>"
      ]
     },
     "metadata": {
      "needs_background": "light"
     },
     "output_type": "display_data"
    }
   ],
   "source": [
    "plt.bar(range(len(c_sorted)), np.cumsum(c_sorted) / len(df))\n",
    "plt.axhline(0.5)\n",
    "plt.axhline(0.6)\n",
    "plt.show()"
   ]
  },
  {
   "cell_type": "code",
   "execution_count": 79,
   "id": "e921eba8-3b4e-4201-abe0-2bbc4a8dfb09",
   "metadata": {},
   "outputs": [
    {
     "data": {
      "text/plain": [
       "array([38, 56, 24,  6, 58, 11, 18, 84, 44, 12, 52, 55, 57,  7,  0, 40, 42,\n",
       "       49, 21, 55, 11,  4, 65, 34, 39, 29, 69,  1, 66, 14,  2, 14,  5, 24,\n",
       "       56, 23,  1, 34,  1, 56, 24,  0, 56,  1,  8, 14, 64, 55, 15, 27, 36,\n",
       "        8, 10, 32, 61, 47, 69, 19, 88, 72, 26, 30, 42,  1,  2, 64, 47, 60,\n",
       "       19, 64, 25, 43,  9, 56, 55, 20, 16, 23, 41, 10, 57,  2, 48, 73, 37,\n",
       "       17, 63, 34,  5, 44, 81, 13, 89,  3, 14, 45, 69, 33, 54, 51, 41, 10,\n",
       "       21, 71, 14, 81, 53, 14, 46, 21, 10, 36, 53, 48,  5, 22, 79, 86, 62,\n",
       "        6, 59,  3, 27,  2, 21, 74, 75, 15, 13, 31, 14, 82, 70,  9, 80, 68,\n",
       "       16, 35, 11, 16, 56, 76,  2,  9, 75, 67, 29, 28, 59, 87, 21, 48, 50,\n",
       "        0, 34, 27,  8, 31, 15, 11, 19, 11, 18, 31, 78, 90, 83, 11, 77, 85,\n",
       "       14, 91, 64, 86, 19, 86, 43, 67, 61, 13, 92, 42, 51], dtype=int64)"
      ]
     },
     "execution_count": 79,
     "metadata": {},
     "output_type": "execute_result"
    }
   ],
   "source": [
    "c[sort]"
   ]
  },
  {
   "cell_type": "code",
   "execution_count": 80,
   "id": "84217d0d-280e-42e9-903a-e57d49591f5a",
   "metadata": {},
   "outputs": [
    {
     "data": {
      "text/plain": [
       "array([109, 100,  86,  81,  71,  63,  57,  53,  51,  51,  51,  50,  50,\n",
       "        48,  45,  44,  43,  42,  40,  40,  40,  36,  34,  33,  33,  32,\n",
       "        31,  31,  30,  30,  28,  27,  27,  27,  27,  25,  25,  25,  25,\n",
       "        24,  24,  24,  23,  23,  23,  23,  22,  21,  21,  20,  20,  20,\n",
       "        20,  19,  19,  19,  19,  19,  18,  18,  17,  17,  17,  17,  17,\n",
       "        17,  16,  16,  16,  16,  16,  16,  16,  15,  15,  15,  15,  14,\n",
       "        14,  14,  14,  13,  13,  13,  13,  13,  13,  13,  12,  12,  12,\n",
       "        12,  12,  12,  11,  11,  11,  11,  11,  11,  10,  10,  10,  10,\n",
       "        10,   9,   9,   9,   9,   9,   8,   8,   8,   8,   8,   8,   8,\n",
       "         7,   7,   7,   7,   7,   7,   7,   7,   7,   7,   7,   6,   6,\n",
       "         6,   6,   6,   6,   6,   6,   6,   6,   5,   5,   5,   5,   5,\n",
       "         5,   5,   5,   5,   5,   5,   5,   4,   4,   4,   4,   4,   4,\n",
       "         4,   4,   4,   4,   4,   4,   4,   4,   3,   3,   3,   3,   3,\n",
       "         3,   3,   3,   3,   3,   3,   3,   3,   3,   3,   3,   2,   2,\n",
       "         1], dtype=int64)"
      ]
     },
     "execution_count": 80,
     "metadata": {},
     "output_type": "execute_result"
    }
   ],
   "source": [
    "c_sorted"
   ]
  },
  {
   "cell_type": "code",
   "execution_count": 81,
   "id": "5298b82e-9ce2-4812-af80-09aae1b5bf6a",
   "metadata": {},
   "outputs": [],
   "source": [
    "data_sort = np.load('data_sort.npy')"
   ]
  },
  {
   "cell_type": "code",
   "execution_count": 83,
   "id": "50dc70d9-bd0d-46a6-9851-42cd43c4b358",
   "metadata": {},
   "outputs": [
    {
     "data": {
      "text/html": [
       "<div>\n",
       "<style scoped>\n",
       "    .dataframe tbody tr th:only-of-type {\n",
       "        vertical-align: middle;\n",
       "    }\n",
       "\n",
       "    .dataframe tbody tr th {\n",
       "        vertical-align: top;\n",
       "    }\n",
       "\n",
       "    .dataframe thead th {\n",
       "        text-align: right;\n",
       "    }\n",
       "</style>\n",
       "<table border=\"1\" class=\"dataframe\">\n",
       "  <thead>\n",
       "    <tr style=\"text-align: right;\">\n",
       "      <th></th>\n",
       "      <th>image</th>\n",
       "      <th>class</th>\n",
       "    </tr>\n",
       "  </thead>\n",
       "  <tbody>\n",
       "    <tr>\n",
       "      <th>0</th>\n",
       "      <td>2237852381-222754.JPG</td>\n",
       "      <td>0</td>\n",
       "    </tr>\n",
       "    <tr>\n",
       "      <th>1</th>\n",
       "      <td>2237852388-108.JPG</td>\n",
       "      <td>0</td>\n",
       "    </tr>\n",
       "    <tr>\n",
       "      <th>2</th>\n",
       "      <td>2237852964-74877.JPG</td>\n",
       "      <td>1</td>\n",
       "    </tr>\n",
       "    <tr>\n",
       "      <th>3</th>\n",
       "      <td>2237853192-298146.JPG</td>\n",
       "      <td>2</td>\n",
       "    </tr>\n",
       "    <tr>\n",
       "      <th>4</th>\n",
       "      <td>2237853950-148876.JPG</td>\n",
       "      <td>2</td>\n",
       "    </tr>\n",
       "    <tr>\n",
       "      <th>...</th>\n",
       "      <td>...</td>\n",
       "      <td>...</td>\n",
       "    </tr>\n",
       "    <tr>\n",
       "      <th>3191</th>\n",
       "      <td>2994402316-297758.JPG</td>\n",
       "      <td>165</td>\n",
       "    </tr>\n",
       "    <tr>\n",
       "      <th>3192</th>\n",
       "      <td>2994402327-372653.JPG</td>\n",
       "      <td>31</td>\n",
       "    </tr>\n",
       "    <tr>\n",
       "      <th>3193</th>\n",
       "      <td>2994403350-222575.JPG</td>\n",
       "      <td>34</td>\n",
       "    </tr>\n",
       "    <tr>\n",
       "      <th>3194</th>\n",
       "      <td>2994405342-372717.JPG</td>\n",
       "      <td>115</td>\n",
       "    </tr>\n",
       "    <tr>\n",
       "      <th>3195</th>\n",
       "      <td>2994406327-372730.JPG</td>\n",
       "      <td>58</td>\n",
       "    </tr>\n",
       "  </tbody>\n",
       "</table>\n",
       "<p>3196 rows × 2 columns</p>\n",
       "</div>"
      ],
      "text/plain": [
       "                      image  class\n",
       "0     2237852381-222754.JPG      0\n",
       "1        2237852388-108.JPG      0\n",
       "2      2237852964-74877.JPG      1\n",
       "3     2237853192-298146.JPG      2\n",
       "4     2237853950-148876.JPG      2\n",
       "...                     ...    ...\n",
       "3191  2994402316-297758.JPG    165\n",
       "3192  2994402327-372653.JPG     31\n",
       "3193  2994403350-222575.JPG     34\n",
       "3194  2994405342-372717.JPG    115\n",
       "3195  2994406327-372730.JPG     58\n",
       "\n",
       "[3196 rows x 2 columns]"
      ]
     },
     "execution_count": 83,
     "metadata": {},
     "output_type": "execute_result"
    }
   ],
   "source": [
    "# df = df.set_index('image')\n",
    "df['image'] = df['image'].str.split('/').str[-1]\n",
    "df"
   ]
  },
  {
   "cell_type": "code",
   "execution_count": 84,
   "id": "1348990c-c479-4655-927e-4e8e6caf8ba9",
   "metadata": {},
   "outputs": [],
   "source": [
    "df_preds = pd.DataFrame({'image': data_sort['im_names'], 'pred': data_sort['pred_labels']})"
   ]
  },
  {
   "cell_type": "code",
   "execution_count": 149,
   "id": "891c5438-4244-4632-87ed-7684b3bcdff8",
   "metadata": {},
   "outputs": [],
   "source": [
    "g = df_preds.groupby('pred')"
   ]
  },
  {
   "cell_type": "code",
   "execution_count": 150,
   "id": "1de0cdde-3a30-4373-a06b-e5d749b94f83",
   "metadata": {},
   "outputs": [
    {
     "data": {
      "text/html": [
       "<div>\n",
       "<style scoped>\n",
       "    .dataframe tbody tr th:only-of-type {\n",
       "        vertical-align: middle;\n",
       "    }\n",
       "\n",
       "    .dataframe tbody tr th {\n",
       "        vertical-align: top;\n",
       "    }\n",
       "\n",
       "    .dataframe thead tr th {\n",
       "        text-align: left;\n",
       "    }\n",
       "\n",
       "    .dataframe thead tr:last-of-type th {\n",
       "        text-align: right;\n",
       "    }\n",
       "</style>\n",
       "<table border=\"1\" class=\"dataframe\">\n",
       "  <thead>\n",
       "    <tr>\n",
       "      <th></th>\n",
       "      <th colspan=\"4\" halign=\"left\">image</th>\n",
       "    </tr>\n",
       "    <tr>\n",
       "      <th></th>\n",
       "      <th>count</th>\n",
       "      <th>unique</th>\n",
       "      <th>top</th>\n",
       "      <th>freq</th>\n",
       "    </tr>\n",
       "    <tr>\n",
       "      <th>pred</th>\n",
       "      <th></th>\n",
       "      <th></th>\n",
       "      <th></th>\n",
       "      <th></th>\n",
       "    </tr>\n",
       "  </thead>\n",
       "  <tbody>\n",
       "    <tr>\n",
       "      <th>0</th>\n",
       "      <td>395</td>\n",
       "      <td>395</td>\n",
       "      <td>2237852360-148530.JPG</td>\n",
       "      <td>1</td>\n",
       "    </tr>\n",
       "    <tr>\n",
       "      <th>1</th>\n",
       "      <td>359</td>\n",
       "      <td>359</td>\n",
       "      <td>2237852204-74704.JPG</td>\n",
       "      <td>1</td>\n",
       "    </tr>\n",
       "    <tr>\n",
       "      <th>2</th>\n",
       "      <td>369</td>\n",
       "      <td>369</td>\n",
       "      <td>2237852116-222680.JPG</td>\n",
       "      <td>1</td>\n",
       "    </tr>\n",
       "    <tr>\n",
       "      <th>3</th>\n",
       "      <td>13</td>\n",
       "      <td>13</td>\n",
       "      <td>2237862652-300134.JPG</td>\n",
       "      <td>1</td>\n",
       "    </tr>\n",
       "    <tr>\n",
       "      <th>4</th>\n",
       "      <td>21</td>\n",
       "      <td>21</td>\n",
       "      <td>2238125580-154661.JPG</td>\n",
       "      <td>1</td>\n",
       "    </tr>\n",
       "    <tr>\n",
       "      <th>...</th>\n",
       "      <td>...</td>\n",
       "      <td>...</td>\n",
       "      <td>...</td>\n",
       "      <td>...</td>\n",
       "    </tr>\n",
       "    <tr>\n",
       "      <th>176</th>\n",
       "      <td>14</td>\n",
       "      <td>14</td>\n",
       "      <td>2238457504-91625.JPG</td>\n",
       "      <td>1</td>\n",
       "    </tr>\n",
       "    <tr>\n",
       "      <th>177</th>\n",
       "      <td>6</td>\n",
       "      <td>6</td>\n",
       "      <td>2238434844-90420.JPG</td>\n",
       "      <td>1</td>\n",
       "    </tr>\n",
       "    <tr>\n",
       "      <th>178</th>\n",
       "      <td>2</td>\n",
       "      <td>2</td>\n",
       "      <td>2831357310-209460.JPG</td>\n",
       "      <td>1</td>\n",
       "    </tr>\n",
       "    <tr>\n",
       "      <th>179</th>\n",
       "      <td>9</td>\n",
       "      <td>9</td>\n",
       "      <td>2237964309-79278.JPG</td>\n",
       "      <td>1</td>\n",
       "    </tr>\n",
       "    <tr>\n",
       "      <th>181</th>\n",
       "      <td>6</td>\n",
       "      <td>6</td>\n",
       "      <td>2238143890-155516.JPG</td>\n",
       "      <td>1</td>\n",
       "    </tr>\n",
       "  </tbody>\n",
       "</table>\n",
       "<p>177 rows × 4 columns</p>\n",
       "</div>"
      ],
      "text/plain": [
       "     image                                   \n",
       "     count unique                    top freq\n",
       "pred                                         \n",
       "0      395    395  2237852360-148530.JPG    1\n",
       "1      359    359   2237852204-74704.JPG    1\n",
       "2      369    369  2237852116-222680.JPG    1\n",
       "3       13     13  2237862652-300134.JPG    1\n",
       "4       21     21  2238125580-154661.JPG    1\n",
       "...    ...    ...                    ...  ...\n",
       "176     14     14   2238457504-91625.JPG    1\n",
       "177      6      6   2238434844-90420.JPG    1\n",
       "178      2      2  2831357310-209460.JPG    1\n",
       "179      9      9   2237964309-79278.JPG    1\n",
       "181      6      6  2238143890-155516.JPG    1\n",
       "\n",
       "[177 rows x 4 columns]"
      ]
     },
     "execution_count": 150,
     "metadata": {},
     "output_type": "execute_result"
    }
   ],
   "source": [
    "g.describe()"
   ]
  },
  {
   "cell_type": "code",
   "execution_count": 157,
   "id": "176907ba-b9c2-4815-8963-19eb8d6c2abb",
   "metadata": {},
   "outputs": [],
   "source": [
    "pred_count = g.count()"
   ]
  },
  {
   "cell_type": "code",
   "execution_count": 165,
   "id": "0f3c56d1-2d1b-4e0c-91ab-40285cbcd4d3",
   "metadata": {},
   "outputs": [
    {
     "data": {
      "text/html": [
       "<div>\n",
       "<style scoped>\n",
       "    .dataframe tbody tr th:only-of-type {\n",
       "        vertical-align: middle;\n",
       "    }\n",
       "\n",
       "    .dataframe tbody tr th {\n",
       "        vertical-align: top;\n",
       "    }\n",
       "\n",
       "    .dataframe thead th {\n",
       "        text-align: right;\n",
       "    }\n",
       "</style>\n",
       "<table border=\"1\" class=\"dataframe\">\n",
       "  <thead>\n",
       "    <tr style=\"text-align: right;\">\n",
       "      <th></th>\n",
       "      <th>image</th>\n",
       "    </tr>\n",
       "    <tr>\n",
       "      <th>pred</th>\n",
       "      <th></th>\n",
       "    </tr>\n",
       "  </thead>\n",
       "  <tbody>\n",
       "    <tr>\n",
       "      <th>107</th>\n",
       "      <td>2001</td>\n",
       "    </tr>\n",
       "    <tr>\n",
       "      <th>67</th>\n",
       "      <td>1907</td>\n",
       "    </tr>\n",
       "    <tr>\n",
       "      <th>51</th>\n",
       "      <td>1466</td>\n",
       "    </tr>\n",
       "    <tr>\n",
       "      <th>171</th>\n",
       "      <td>1270</td>\n",
       "    </tr>\n",
       "    <tr>\n",
       "      <th>69</th>\n",
       "      <td>1231</td>\n",
       "    </tr>\n",
       "    <tr>\n",
       "      <th>56</th>\n",
       "      <td>1183</td>\n",
       "    </tr>\n",
       "    <tr>\n",
       "      <th>75</th>\n",
       "      <td>1148</td>\n",
       "    </tr>\n",
       "    <tr>\n",
       "      <th>105</th>\n",
       "      <td>971</td>\n",
       "    </tr>\n",
       "    <tr>\n",
       "      <th>103</th>\n",
       "      <td>970</td>\n",
       "    </tr>\n",
       "    <tr>\n",
       "      <th>87</th>\n",
       "      <td>827</td>\n",
       "    </tr>\n",
       "  </tbody>\n",
       "</table>\n",
       "</div>"
      ],
      "text/plain": [
       "      image\n",
       "pred       \n",
       "107    2001\n",
       "67     1907\n",
       "51     1466\n",
       "171    1270\n",
       "69     1231\n",
       "56     1183\n",
       "75     1148\n",
       "105     971\n",
       "103     970\n",
       "87      827"
      ]
     },
     "execution_count": 165,
     "metadata": {},
     "output_type": "execute_result"
    }
   ],
   "source": [
    "pred_counts = pred_count.sort_values('image', ascending=False).head(10)\n",
    "pred_counts"
   ]
  },
  {
   "cell_type": "code",
   "execution_count": 88,
   "id": "9d91e81c-5383-4241-99b6-cf7cf1f1725d",
   "metadata": {},
   "outputs": [
    {
     "data": {
      "text/html": [
       "<div>\n",
       "<style scoped>\n",
       "    .dataframe tbody tr th:only-of-type {\n",
       "        vertical-align: middle;\n",
       "    }\n",
       "\n",
       "    .dataframe tbody tr th {\n",
       "        vertical-align: top;\n",
       "    }\n",
       "\n",
       "    .dataframe thead th {\n",
       "        text-align: right;\n",
       "    }\n",
       "</style>\n",
       "<table border=\"1\" class=\"dataframe\">\n",
       "  <thead>\n",
       "    <tr style=\"text-align: right;\">\n",
       "      <th></th>\n",
       "      <th>image</th>\n",
       "      <th>class</th>\n",
       "      <th>pred</th>\n",
       "    </tr>\n",
       "  </thead>\n",
       "  <tbody>\n",
       "    <tr>\n",
       "      <th>0</th>\n",
       "      <td>2237852381-222754.JPG</td>\n",
       "      <td>0</td>\n",
       "      <td>163</td>\n",
       "    </tr>\n",
       "    <tr>\n",
       "      <th>1</th>\n",
       "      <td>2237852388-108.JPG</td>\n",
       "      <td>0</td>\n",
       "      <td>100</td>\n",
       "    </tr>\n",
       "    <tr>\n",
       "      <th>2</th>\n",
       "      <td>2237852964-74877.JPG</td>\n",
       "      <td>1</td>\n",
       "      <td>107</td>\n",
       "    </tr>\n",
       "    <tr>\n",
       "      <th>3</th>\n",
       "      <td>2237853192-298146.JPG</td>\n",
       "      <td>2</td>\n",
       "      <td>2</td>\n",
       "    </tr>\n",
       "    <tr>\n",
       "      <th>4</th>\n",
       "      <td>2237853950-148876.JPG</td>\n",
       "      <td>2</td>\n",
       "      <td>2</td>\n",
       "    </tr>\n",
       "    <tr>\n",
       "      <th>...</th>\n",
       "      <td>...</td>\n",
       "      <td>...</td>\n",
       "      <td>...</td>\n",
       "    </tr>\n",
       "    <tr>\n",
       "      <th>3191</th>\n",
       "      <td>2994402316-297758.JPG</td>\n",
       "      <td>165</td>\n",
       "      <td>165</td>\n",
       "    </tr>\n",
       "    <tr>\n",
       "      <th>3192</th>\n",
       "      <td>2994402327-372653.JPG</td>\n",
       "      <td>31</td>\n",
       "      <td>31</td>\n",
       "    </tr>\n",
       "    <tr>\n",
       "      <th>3193</th>\n",
       "      <td>2994403350-222575.JPG</td>\n",
       "      <td>34</td>\n",
       "      <td>107</td>\n",
       "    </tr>\n",
       "    <tr>\n",
       "      <th>3194</th>\n",
       "      <td>2994405342-372717.JPG</td>\n",
       "      <td>115</td>\n",
       "      <td>115</td>\n",
       "    </tr>\n",
       "    <tr>\n",
       "      <th>3195</th>\n",
       "      <td>2994406327-372730.JPG</td>\n",
       "      <td>58</td>\n",
       "      <td>58</td>\n",
       "    </tr>\n",
       "  </tbody>\n",
       "</table>\n",
       "<p>3196 rows × 3 columns</p>\n",
       "</div>"
      ],
      "text/plain": [
       "                      image  class  pred\n",
       "0     2237852381-222754.JPG      0   163\n",
       "1        2237852388-108.JPG      0   100\n",
       "2      2237852964-74877.JPG      1   107\n",
       "3     2237853192-298146.JPG      2     2\n",
       "4     2237853950-148876.JPG      2     2\n",
       "...                     ...    ...   ...\n",
       "3191  2994402316-297758.JPG    165   165\n",
       "3192  2994402327-372653.JPG     31    31\n",
       "3193  2994403350-222575.JPG     34   107\n",
       "3194  2994405342-372717.JPG    115   115\n",
       "3195  2994406327-372730.JPG     58    58\n",
       "\n",
       "[3196 rows x 3 columns]"
      ]
     },
     "execution_count": 88,
     "metadata": {},
     "output_type": "execute_result"
    }
   ],
   "source": [
    "df_all = pd.merge(df, df_preds, on='image')\n",
    "df_all"
   ]
  },
  {
   "cell_type": "code",
   "execution_count": 96,
   "id": "a34844ca-54fc-4e84-bcad-7aba7615b8d1",
   "metadata": {},
   "outputs": [],
   "source": [
    "from sklearn import metrics"
   ]
  },
  {
   "cell_type": "code",
   "execution_count": 97,
   "id": "258f0d01-9739-44a8-8667-770492a3c38e",
   "metadata": {},
   "outputs": [],
   "source": [
    "m = metrics.confusion_matrix(df_all['class'], df_all['pred'])"
   ]
  },
  {
   "cell_type": "code",
   "execution_count": 114,
   "id": "f930c711-78d8-456b-a1cf-9b5f2276a13d",
   "metadata": {},
   "outputs": [
    {
     "data": {
      "text/plain": [
       "(array([ 67, 122, 142], dtype=int64),)"
      ]
     },
     "execution_count": 114,
     "metadata": {},
     "output_type": "execute_result"
    }
   ],
   "source": [
    "np.where(m[142])"
   ]
  },
  {
   "cell_type": "code",
   "execution_count": 98,
   "id": "b13a780e-63cb-419f-9933-17949b1d57a2",
   "metadata": {},
   "outputs": [
    {
     "data": {
      "image/png": "[encoded data removed]",
      "text/plain": [
       "<Figure size 1080x1080 with 1 Axes>"
      ]
     },
     "metadata": {
      "needs_background": "light"
     },
     "output_type": "display_data"
    }
   ],
   "source": [
    "fig, ax = plt.subplots(1,1, figsize=(15, 15))\n",
    "ax.imshow(np.log(m + 0.0005))\n",
    "plt.show()"
   ]
  },
  {
   "cell_type": "code",
   "execution_count": 118,
   "id": "f2c567e5-7960-4fbe-a280-9d4de18f5c78",
   "metadata": {},
   "outputs": [
    {
     "name": "stderr",
     "output_type": "stream",
     "text": [
      "C:\\Users\\nje\\AppData\\Local\\Temp/ipykernel_25096/994953485.py:1: RuntimeWarning: invalid value encountered in true_divide\n",
      "  plt.plot(np.diagonal(m) / m.sum(0))\n"
     ]
    },
    {
     "data": {
      "text/plain": [
       "[<matplotlib.lines.Line2D at 0x1379d277940>]"
      ]
     },
     "execution_count": 118,
     "metadata": {},
     "output_type": "execute_result"
    },
    {
     "data": {
      "image/png": "[encoded data removed]",
      "text/plain": [
       "<Figure size 432x288 with 1 Axes>"
      ]
     },
     "metadata": {
      "needs_background": "light"
     },
     "output_type": "display_data"
    }
   ],
   "source": [
    "plt.plot(np.diagonal(m) / m.sum(0))"
   ]
  },
  {
   "cell_type": "code",
   "execution_count": 132,
   "id": "88036750-5e08-4513-8227-223c84603b75",
   "metadata": {},
   "outputs": [
    {
     "name": "stderr",
     "output_type": "stream",
     "text": [
      "C:\\Users\\nje\\AppData\\Local\\Temp/ipykernel_25096/3477649289.py:1: RuntimeWarning: invalid value encountered in true_divide\n",
      "  np.nanargmin((np.diagonal(m) / m.sum(0))[100:125]) + 100\n"
     ]
    },
    {
     "data": {
      "text/plain": [
       "107"
      ]
     },
     "execution_count": 132,
     "metadata": {},
     "output_type": "execute_result"
    }
   ],
   "source": [
    "np.nanargmin((np.diagonal(m) / m.sum(0))[100:125]) + 100"
   ]
  },
  {
   "cell_type": "code",
   "execution_count": 120,
   "id": "b71b3838-7808-4d6d-93f2-04f589bee8ef",
   "metadata": {},
   "outputs": [
    {
     "data": {
      "text/plain": [
       "[<matplotlib.lines.Line2D at 0x1379d33d910>]"
      ]
     },
     "execution_count": 120,
     "metadata": {},
     "output_type": "execute_result"
    },
    {
     "data": {
      "image/png": "[encoded data removed]",
      "text/plain": [
       "<Figure size 432x288 with 1 Axes>"
      ]
     },
     "metadata": {
      "needs_background": "light"
     },
     "output_type": "display_data"
    }
   ],
   "source": [
    "plt.plot(np.diagonal(m) / m.sum(1))"
   ]
  },
  {
   "cell_type": "code",
   "execution_count": 127,
   "id": "ee9b3f70-470b-4607-a878-20f79121c906",
   "metadata": {},
   "outputs": [
    {
     "data": {
      "text/plain": [
       "137"
      ]
     },
     "execution_count": 127,
     "metadata": {},
     "output_type": "execute_result"
    }
   ],
   "source": [
    "m[:, 67].sum()"
   ]
  },
  {
   "cell_type": "code",
   "execution_count": 133,
   "id": "e90edf80-e59e-41b3-9fc1-64d9998cc338",
   "metadata": {},
   "outputs": [
    {
     "data": {
      "text/plain": [
       "144"
      ]
     },
     "execution_count": 133,
     "metadata": {},
     "output_type": "execute_result"
    }
   ],
   "source": [
    "m[:, 107].sum()"
   ]
  },
  {
   "cell_type": "code",
   "execution_count": 134,
   "id": "12057faa-9794-4658-8f5c-dd430685b0be",
   "metadata": {},
   "outputs": [
    {
     "data": {
      "text/plain": [
       "86"
      ]
     },
     "execution_count": 134,
     "metadata": {},
     "output_type": "execute_result"
    }
   ],
   "source": [
    "m[:, 75].sum()"
   ]
  },
  {
   "cell_type": "code",
   "execution_count": 135,
   "id": "50f9ac48-aaf1-43c0-83be-3976c6a36a47",
   "metadata": {},
   "outputs": [
    {
     "data": {
      "text/plain": [
       "108"
      ]
     },
     "execution_count": 135,
     "metadata": {},
     "output_type": "execute_result"
    }
   ],
   "source": [
    "m[:, 51].sum()"
   ]
  },
  {
   "cell_type": "code",
   "execution_count": 140,
   "id": "57f3d192-51bb-4087-8e41-1bb99b36df89",
   "metadata": {},
   "outputs": [
    {
     "data": {
      "text/plain": [
       "108"
      ]
     },
     "execution_count": 140,
     "metadata": {},
     "output_type": "execute_result"
    }
   ],
   "source": [
    "m[:, 56].sum()"
   ]
  },
  {
   "cell_type": "code",
   "execution_count": 138,
   "id": "76b4f97f-0974-4f6c-9b7e-7ea3260ea03a",
   "metadata": {},
   "outputs": [
    {
     "data": {
      "text/plain": [
       "[<matplotlib.lines.Line2D at 0x1379d3f0b20>]"
      ]
     },
     "execution_count": 138,
     "metadata": {},
     "output_type": "execute_result"
    },
    {
     "data": {
      "image/png": "[encoded data removed]",
      "text/plain": [
       "<Figure size 432x288 with 1 Axes>"
      ]
     },
     "metadata": {
      "needs_background": "light"
     },
     "output_type": "display_data"
    }
   ],
   "source": [
    "plt.plot(m.sum(0))"
   ]
  },
  {
   "cell_type": "code",
   "execution_count": 139,
   "id": "65bfef57-defa-4fec-b50b-dca22a7cdb24",
   "metadata": {},
   "outputs": [
    {
     "data": {
      "text/plain": [
       "(array([ 51,  56,  67, 107, 171], dtype=int64),)"
      ]
     },
     "execution_count": 139,
     "metadata": {},
     "output_type": "execute_result"
    }
   ],
   "source": [
    "np.where(m.sum(0) > 100)"
   ]
  },
  {
   "cell_type": "code",
   "execution_count": 144,
   "id": "4c0425a5-a404-4bcb-b599-6f503b2b4d06",
   "metadata": {},
   "outputs": [
    {
     "data": {
      "text/plain": [
       "(array([67], dtype=int64),)"
      ]
     },
     "execution_count": 144,
     "metadata": {},
     "output_type": "execute_result"
    }
   ],
   "source": [
    "np.where(m.sum(0) / m.sum(1) > 10)"
   ]
  },
  {
   "cell_type": "code",
   "execution_count": 143,
   "id": "6cd87655-0563-4d36-9cd8-0227e26deaa6",
   "metadata": {},
   "outputs": [
    {
     "data": {
      "text/plain": [
       "[<matplotlib.lines.Line2D at 0x1379d459e80>]"
      ]
     },
     "execution_count": 143,
     "metadata": {},
     "output_type": "execute_result"
    },
    {
     "data": {
      "image/png": "[encoded data removed]",
      "text/plain": [
       "<Figure size 432x288 with 1 Axes>"
      ]
     },
     "metadata": {
      "needs_background": "light"
     },
     "output_type": "display_data"
    }
   ],
   "source": [
    "plt.plot(m.sum(0) / m.sum(1))"
   ]
  },
  {
   "cell_type": "code",
   "execution_count": 143,
   "id": "34edf573-0e80-45d0-97fe-cf0b3e34bae3",
   "metadata": {},
   "outputs": [
    {
     "data": {
      "text/plain": [
       "[<matplotlib.lines.Line2D at 0x1379d459e80>]"
      ]
     },
     "execution_count": 143,
     "metadata": {},
     "output_type": "execute_result"
    },
    {
     "data": {
      "image/png": "[encoded data removed]",
      "text/plain": [
       "<Figure size 432x288 with 1 Axes>"
      ]
     },
     "metadata": {
      "needs_background": "light"
     },
     "output_type": "display_data"
    }
   ],
   "source": [
    "m.sum(0) / m.sum(1)"
   ]
  },
  {
   "cell_type": "code",
   "execution_count": null,
   "id": "2e4244de-25da-46f9-b2dd-d8cb4ccc6eca",
   "metadata": {},
   "outputs": [],
   "source": []
  },
  {
   "cell_type": "code",
   "execution_count": 119,
   "id": "246ab41b-726d-40c0-9876-8cf94f9d4352",
   "metadata": {},
   "outputs": [
    {
     "name": "stdout",
     "output_type": "stream",
     "text": [
      "              precision    recall  f1-score   support\n",
      "\n",
      "           0       0.55      0.67      0.60        24\n",
      "           1       0.86      0.56      0.68        45\n",
      "           2       0.84      1.00      0.91        31\n",
      "           3       1.00      0.80      0.89         5\n",
      "           4       1.00      0.14      0.25         7\n",
      "           5       0.50      0.18      0.26        17\n",
      "           6       0.33      0.16      0.22        25\n",
      "           7       1.00      0.14      0.25        28\n",
      "           8       0.50      0.06      0.11        17\n",
      "           9       0.92      0.48      0.63        23\n",
      "          10       0.64      0.36      0.46        25\n",
      "          11       0.50      1.00      0.67        12\n",
      "          12       0.50      0.14      0.22         7\n",
      "          13       0.95      0.50      0.65        36\n",
      "          14       0.78      0.52      0.62        27\n",
      "          15       0.87      0.75      0.81        81\n",
      "          16       0.85      0.94      0.89        48\n",
      "          17       0.85      0.48      0.61        23\n",
      "          18       1.00      0.06      0.12        16\n",
      "          19       0.71      0.36      0.48        14\n",
      "          20       0.00      0.00      0.00         5\n",
      "          21       0.90      0.35      0.51        51\n",
      "          22       1.00      0.33      0.50         6\n",
      "          23       0.72      0.60      0.65        30\n",
      "          24       1.00      0.86      0.92        21\n",
      "          25       1.00      0.40      0.57        15\n",
      "          26       0.69      0.85      0.76        13\n",
      "          27       0.88      0.39      0.54        57\n",
      "          28       0.00      0.00      0.00         3\n",
      "          29       0.70      0.58      0.64        12\n",
      "          30       0.92      0.80      0.86        15\n",
      "          31       0.87      0.82      0.85        40\n",
      "          32       0.71      0.62      0.67         8\n",
      "          33       0.27      1.00      0.43        14\n",
      "          34       0.99      0.88      0.93        86\n",
      "          35       0.62      0.73      0.67        11\n",
      "          36       0.86      0.75      0.80        16\n",
      "          37       0.00      0.00      0.00        17\n",
      "          38       0.46      0.55      0.50        20\n",
      "          39       1.00      0.80      0.89         5\n",
      "          40       0.36      0.80      0.50         5\n",
      "          41       0.50      0.25      0.33         8\n",
      "          42       0.60      0.53      0.56        17\n",
      "          43       0.00      0.00      0.00         4\n",
      "          44       0.81      0.89      0.85        19\n",
      "          45       0.88      0.88      0.88        24\n",
      "          46       0.91      0.91      0.91        11\n",
      "          47       1.00      0.33      0.50         6\n",
      "          48       0.77      0.77      0.77        13\n",
      "          49       1.00      0.67      0.80         6\n",
      "          50       0.40      0.62      0.48        13\n",
      "          51       0.49      0.84      0.62        63\n",
      "          52       0.78      0.88      0.82         8\n",
      "          53       0.71      0.75      0.73        20\n",
      "          54       0.67      0.77      0.71        13\n",
      "          55       1.00      0.62      0.77         8\n",
      "          56       0.83      0.83      0.83       109\n",
      "          57       0.65      0.94      0.77        33\n",
      "          58       1.00      0.77      0.87        44\n",
      "          59       0.84      0.84      0.84        25\n",
      "          60       0.89      0.80      0.84        10\n",
      "          61       1.00      0.12      0.21        17\n",
      "          62       0.65      0.55      0.59        20\n",
      "          63       1.00      0.50      0.67         4\n",
      "          64       0.82      0.56      0.67        16\n",
      "          65       0.97      0.71      0.82        51\n",
      "          66       0.50      0.50      0.50         4\n",
      "          67       0.04      0.45      0.07        11\n",
      "          68       0.33      0.11      0.17         9\n",
      "          69       0.55      0.95      0.70        43\n",
      "          70       1.00      0.06      0.12        16\n",
      "          71       0.83      0.42      0.56        12\n",
      "          72       0.50      0.12      0.20         8\n",
      "          73       0.71      0.71      0.71         7\n",
      "          74       0.71      0.62      0.67        16\n",
      "          75       0.30      0.62      0.41        42\n",
      "          76       1.00      0.75      0.86         4\n",
      "          77       0.40      0.36      0.38        11\n",
      "          78       0.83      0.96      0.89        51\n",
      "          79       0.58      0.78      0.67         9\n",
      "          80       1.00      0.12      0.22         8\n",
      "          81       0.83      0.45      0.59        11\n",
      "          82       0.85      0.85      0.85        40\n",
      "          83       1.00      0.57      0.73        21\n",
      "          84       0.77      0.74      0.76        23\n",
      "          85       0.80      0.84      0.82        19\n",
      "          86       0.87      0.52      0.65        50\n",
      "          87       0.79      0.82      0.81        71\n",
      "          88       1.00      1.00      1.00         4\n",
      "          89       0.34      0.73      0.47        15\n",
      "          90       0.96      0.44      0.60        50\n",
      "          91       0.68      0.65      0.67        20\n",
      "          92       0.24      0.53      0.33        15\n",
      "          93       0.80      0.80      0.80         5\n",
      "          94       0.86      0.86      0.86         7\n",
      "          95       1.00      0.50      0.67         4\n",
      "          96       1.00      0.88      0.93        24\n",
      "          97       0.52      0.69      0.59        16\n",
      "          98       0.60      0.50      0.55         6\n",
      "          99       1.00      1.00      1.00         3\n",
      "         100       0.86      0.95      0.90        19\n",
      "         101       1.00      0.78      0.88         9\n",
      "         102       1.00      1.00      1.00        10\n",
      "         103       0.52      0.94      0.67        32\n",
      "         104       1.00      0.71      0.83         7\n",
      "         105       0.38      0.89      0.53        27\n",
      "         106       0.93      1.00      0.96        13\n",
      "         107       0.15      0.55      0.24        40\n",
      "         108       0.71      1.00      0.83        17\n",
      "         109       0.71      0.42      0.53        12\n",
      "         110       0.82      0.56      0.67        25\n",
      "         111       1.00      0.57      0.73         7\n",
      "         112       0.77      0.91      0.83        22\n",
      "         113       1.00      0.36      0.53        14\n",
      "         114       0.80      0.52      0.63        23\n",
      "         115       0.88      0.82      0.85        34\n",
      "         116       0.68      1.00      0.81        30\n",
      "         117       1.00      0.67      0.80         3\n",
      "         118       0.00      0.00      0.00         6\n",
      "         119       1.00      0.71      0.83        31\n",
      "         120       0.67      0.67      0.67         6\n",
      "         121       0.70      0.70      0.70        10\n",
      "         122       0.71      0.94      0.81        18\n",
      "         123       1.00      0.50      0.67         4\n",
      "         124       0.44      0.54      0.48        13\n",
      "         125       1.00      0.67      0.80         3\n",
      "         126       0.40      1.00      0.57         4\n",
      "         127       1.00      0.14      0.25         7\n",
      "         128       1.00      0.71      0.83         7\n",
      "         129       0.86      0.60      0.71        10\n",
      "         130       0.49      0.85      0.62        27\n",
      "         131       1.00      1.00      1.00         5\n",
      "         132       0.64      0.90      0.75        10\n",
      "         133       1.00      0.60      0.75         5\n",
      "         134       0.00      0.00      0.00         3\n",
      "         135       1.00      1.00      1.00         4\n",
      "         136       1.00      0.14      0.25         7\n",
      "         137       1.00      0.40      0.57         5\n",
      "         138       0.84      1.00      0.92        27\n",
      "         139       0.50      0.50      0.50         4\n",
      "         140       0.80      0.50      0.62        16\n",
      "         141       1.00      0.33      0.50         3\n",
      "         142       0.80      0.50      0.62         8\n",
      "         143       1.00      0.50      0.67        14\n",
      "         144       1.00      0.33      0.50         6\n",
      "         145       1.00      0.11      0.20         9\n",
      "         146       1.00      0.33      0.50         3\n",
      "         147       0.83      0.83      0.83         6\n",
      "         148       0.50      0.17      0.25         6\n",
      "         149       0.00      0.00      0.00         3\n",
      "         150       1.00      0.78      0.88         9\n",
      "         151       0.97      0.70      0.81        53\n",
      "         152       1.00      0.33      0.50         3\n",
      "         153       0.75      0.86      0.80         7\n",
      "         154       0.69      0.85      0.76        13\n",
      "         155       0.24      0.83      0.37        12\n",
      "         156       1.00      0.21      0.35        19\n",
      "         157       0.00      0.00      0.00         3\n",
      "         158       1.00      0.33      0.50         6\n",
      "         159       1.00      0.80      0.89         5\n",
      "         160       1.00      0.67      0.80         3\n",
      "         161       0.40      0.67      0.50         3\n",
      "         162       0.68      0.72      0.70        18\n",
      "         163       0.77      0.83      0.80        12\n",
      "         164       1.00      1.00      1.00         4\n",
      "         165       0.56      0.82      0.67        11\n",
      "         166       0.60      0.75      0.67         4\n",
      "         167       1.00      0.60      0.75         5\n",
      "         168       0.81      0.52      0.63        33\n",
      "         169       1.00      0.25      0.40         4\n",
      "         170       0.61      0.58      0.59        19\n",
      "         171       0.90      0.94      0.92       100\n",
      "         172       0.75      0.75      0.75         4\n",
      "         173       0.50      0.33      0.40         3\n",
      "         174       1.00      1.00      1.00         3\n",
      "         175       0.00      0.00      0.00         3\n",
      "         176       1.00      1.00      1.00         3\n",
      "         177       1.00      0.29      0.44         7\n",
      "         178       1.00      0.20      0.33         5\n",
      "         179       0.00      0.00      0.00         5\n",
      "         180       0.00      0.00      0.00         1\n",
      "         181       1.00      0.50      0.67         2\n",
      "         182       0.00      0.00      0.00         2\n",
      "\n",
      "    accuracy                           0.67      3196\n",
      "   macro avg       0.73      0.59      0.60      3196\n",
      "weighted avg       0.77      0.67      0.67      3196\n",
      "\n"
     ]
    },
    {
     "name": "stderr",
     "output_type": "stream",
     "text": [
      "C:\\Users\\nje\\Miniconda3\\envs\\MachineLearning\\lib\\site-packages\\sklearn\\metrics\\_classification.py:1308: UndefinedMetricWarning: Precision and F-score are ill-defined and being set to 0.0 in labels with no predicted samples. Use `zero_division` parameter to control this behavior.\n",
      "  _warn_prf(average, modifier, msg_start, len(result))\n",
      "C:\\Users\\nje\\Miniconda3\\envs\\MachineLearning\\lib\\site-packages\\sklearn\\metrics\\_classification.py:1308: UndefinedMetricWarning: Precision and F-score are ill-defined and being set to 0.0 in labels with no predicted samples. Use `zero_division` parameter to control this behavior.\n",
      "  _warn_prf(average, modifier, msg_start, len(result))\n",
      "C:\\Users\\nje\\Miniconda3\\envs\\MachineLearning\\lib\\site-packages\\sklearn\\metrics\\_classification.py:1308: UndefinedMetricWarning: Precision and F-score are ill-defined and being set to 0.0 in labels with no predicted samples. Use `zero_division` parameter to control this behavior.\n",
      "  _warn_prf(average, modifier, msg_start, len(result))\n"
     ]
    }
   ],
   "source": [
    "print(metrics.classification_report(df_all['class'], df_all['pred']))"
   ]
  },
  {
   "cell_type": "code",
   "execution_count": null,
   "id": "73e11793-5fc4-4ed3-9975-0ac95367e0cc",
   "metadata": {},
   "outputs": [],
   "source": []
  }
 ],
 "metadata": {
  "kernelspec": {
   "display_name": "Python 3 (ipykernel)",
   "language": "python",
   "name": "python3"
  },
  "language_info": {
   "codemirror_mode": {
    "name": "ipython",
    "version": 3
   },
   "file_extension": ".py",
   "mimetype": "text/x-python",
   "name": "python",
   "nbconvert_exporter": "python",
   "pygments_lexer": "ipython3",
   "version": "3.9.7"
  }
 },
 "nbformat": 4,
 "nbformat_minor": 5
}
