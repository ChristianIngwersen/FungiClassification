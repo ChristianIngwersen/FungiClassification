{
 "cells": [
  {
   "cell_type": "code",
   "execution_count": 1,
   "id": "87e20289-15a0-452a-861e-a6b669ad31ed",
   "metadata": {},
   "outputs": [],
   "source": [
    "%load_ext autoreload\n",
    "%autoreload 2"
   ]
  },
  {
   "cell_type": "code",
   "execution_count": 2,
   "id": "482331e4-fbb6-4c26-ba1e-d530214539da",
   "metadata": {},
   "outputs": [
    {
     "name": "stderr",
     "output_type": "stream",
     "text": [
      "/work1/niejep/SummerSchoolChallenge2022/env/lib/python3.9/site-packages/tqdm/auto.py:22: TqdmWarning: IProgress not found. Please update jupyter and ipywidgets. See https://ipywidgets.readthedocs.io/en/stable/user_install.html\n",
      "  from .autonotebook import tqdm as notebook_tqdm\n"
     ]
    }
   ],
   "source": [
    "import os\n",
    "from glob import glob\n",
    "\n",
    "import pandas as pd\n",
    "import numpy as np\n",
    "\n",
    "import fungi_classification as fungi"
   ]
  },
  {
   "cell_type": "code",
   "execution_count": 3,
   "id": "bd8f8904-9b1c-48d0-a276-878e18c27cd4",
   "metadata": {},
   "outputs": [],
   "source": [
    "project_path = '/work1/niejep/SummerSchoolChallenge2022'\n",
    "network_path = project_path + '/saved_models'\n",
    "data_path = project_path + '/fungiimages/DF20M/'"
   ]
  },
  {
   "cell_type": "markdown",
   "id": "b4469061-82d5-4d07-bc34-7d90915da734",
   "metadata": {},
   "source": [
    "### Load training data list"
   ]
  },
  {
   "cell_type": "code",
   "execution_count": 34,
   "id": "ad602212-a235-46d9-a71d-4eadf8fd7d46",
   "metadata": {},
   "outputs": [
    {
     "data": {
      "text/html": [
       "<div>\n",
       "<style scoped>\n",
       "    .dataframe tbody tr th:only-of-type {\n",
       "        vertical-align: middle;\n",
       "    }\n",
       "\n",
       "    .dataframe tbody tr th {\n",
       "        vertical-align: top;\n",
       "    }\n",
       "\n",
       "    .dataframe thead th {\n",
       "        text-align: right;\n",
       "    }\n",
       "</style>\n",
       "<table border=\"1\" class=\"dataframe\">\n",
       "  <thead>\n",
       "    <tr style=\"text-align: right;\">\n",
       "      <th></th>\n",
       "      <th>image</th>\n",
       "      <th>class</th>\n",
       "      <th>set</th>\n",
       "    </tr>\n",
       "  </thead>\n",
       "  <tbody>\n",
       "    <tr>\n",
       "      <th>0</th>\n",
       "      <td>/work1/niejep/SummerSchoolChallenge2022/fungii...</td>\n",
       "      <td>0</td>\n",
       "      <td>train</td>\n",
       "    </tr>\n",
       "    <tr>\n",
       "      <th>1</th>\n",
       "      <td>/work1/niejep/SummerSchoolChallenge2022/fungii...</td>\n",
       "      <td>0</td>\n",
       "      <td>train</td>\n",
       "    </tr>\n",
       "    <tr>\n",
       "      <th>2</th>\n",
       "      <td>/work1/niejep/SummerSchoolChallenge2022/fungii...</td>\n",
       "      <td>1</td>\n",
       "      <td>train</td>\n",
       "    </tr>\n",
       "    <tr>\n",
       "      <th>3</th>\n",
       "      <td>/work1/niejep/SummerSchoolChallenge2022/fungii...</td>\n",
       "      <td>2</td>\n",
       "      <td>train</td>\n",
       "    </tr>\n",
       "    <tr>\n",
       "      <th>4</th>\n",
       "      <td>/work1/niejep/SummerSchoolChallenge2022/fungii...</td>\n",
       "      <td>2</td>\n",
       "      <td>train</td>\n",
       "    </tr>\n",
       "    <tr>\n",
       "      <th>...</th>\n",
       "      <td>...</td>\n",
       "      <td>...</td>\n",
       "      <td>...</td>\n",
       "    </tr>\n",
       "    <tr>\n",
       "      <th>3191</th>\n",
       "      <td>/work1/niejep/SummerSchoolChallenge2022/fungii...</td>\n",
       "      <td>165</td>\n",
       "      <td>train</td>\n",
       "    </tr>\n",
       "    <tr>\n",
       "      <th>3192</th>\n",
       "      <td>/work1/niejep/SummerSchoolChallenge2022/fungii...</td>\n",
       "      <td>31</td>\n",
       "      <td>train</td>\n",
       "    </tr>\n",
       "    <tr>\n",
       "      <th>3193</th>\n",
       "      <td>/work1/niejep/SummerSchoolChallenge2022/fungii...</td>\n",
       "      <td>34</td>\n",
       "      <td>train</td>\n",
       "    </tr>\n",
       "    <tr>\n",
       "      <th>3194</th>\n",
       "      <td>/work1/niejep/SummerSchoolChallenge2022/fungii...</td>\n",
       "      <td>115</td>\n",
       "      <td>train</td>\n",
       "    </tr>\n",
       "    <tr>\n",
       "      <th>3195</th>\n",
       "      <td>/work1/niejep/SummerSchoolChallenge2022/fungii...</td>\n",
       "      <td>58</td>\n",
       "      <td>train</td>\n",
       "    </tr>\n",
       "  </tbody>\n",
       "</table>\n",
       "<p>3196 rows × 3 columns</p>\n",
       "</div>"
      ],
      "text/plain": [
       "                                                  image  class    set\n",
       "0     /work1/niejep/SummerSchoolChallenge2022/fungii...      0  train\n",
       "1     /work1/niejep/SummerSchoolChallenge2022/fungii...      0  train\n",
       "2     /work1/niejep/SummerSchoolChallenge2022/fungii...      1  train\n",
       "3     /work1/niejep/SummerSchoolChallenge2022/fungii...      2  train\n",
       "4     /work1/niejep/SummerSchoolChallenge2022/fungii...      2  train\n",
       "...                                                 ...    ...    ...\n",
       "3191  /work1/niejep/SummerSchoolChallenge2022/fungii...    165  train\n",
       "3192  /work1/niejep/SummerSchoolChallenge2022/fungii...     31  train\n",
       "3193  /work1/niejep/SummerSchoolChallenge2022/fungii...     34  train\n",
       "3194  /work1/niejep/SummerSchoolChallenge2022/fungii...    115  train\n",
       "3195  /work1/niejep/SummerSchoolChallenge2022/fungii...     58  train\n",
       "\n",
       "[3196 rows x 3 columns]"
      ]
     },
     "execution_count": 34,
     "metadata": {},
     "output_type": "execute_result"
    }
   ],
   "source": [
    "data_file = os.path.join(network_path, \"data_with_labels.csv\")\n",
    "train_df = pd.read_csv(data_file)\n",
    "train_df['set'] = 'train'\n",
    "train_df"
   ]
  },
  {
   "cell_type": "markdown",
   "id": "9f3b1e7d-82c6-40f0-98c6-388f4fb03500",
   "metadata": {},
   "source": [
    "### Load test data list"
   ]
  },
  {
   "cell_type": "code",
   "execution_count": 33,
   "id": "285c7c62-542c-47ef-9f3d-204038c93bad",
   "metadata": {},
   "outputs": [
    {
     "data": {
      "text/html": [
       "<div>\n",
       "<style scoped>\n",
       "    .dataframe tbody tr th:only-of-type {\n",
       "        vertical-align: middle;\n",
       "    }\n",
       "\n",
       "    .dataframe tbody tr th {\n",
       "        vertical-align: top;\n",
       "    }\n",
       "\n",
       "    .dataframe thead th {\n",
       "        text-align: right;\n",
       "    }\n",
       "</style>\n",
       "<table border=\"1\" class=\"dataframe\">\n",
       "  <thead>\n",
       "    <tr style=\"text-align: right;\">\n",
       "      <th></th>\n",
       "      <th>image</th>\n",
       "      <th>class</th>\n",
       "      <th>set</th>\n",
       "    </tr>\n",
       "  </thead>\n",
       "  <tbody>\n",
       "    <tr>\n",
       "      <th>0</th>\n",
       "      <td>/work1/niejep/SummerSchoolChallenge2022/fungii...</td>\n",
       "      <td>None</td>\n",
       "      <td>test</td>\n",
       "    </tr>\n",
       "    <tr>\n",
       "      <th>1</th>\n",
       "      <td>/work1/niejep/SummerSchoolChallenge2022/fungii...</td>\n",
       "      <td>None</td>\n",
       "      <td>test</td>\n",
       "    </tr>\n",
       "    <tr>\n",
       "      <th>2</th>\n",
       "      <td>/work1/niejep/SummerSchoolChallenge2022/fungii...</td>\n",
       "      <td>None</td>\n",
       "      <td>test</td>\n",
       "    </tr>\n",
       "    <tr>\n",
       "      <th>3</th>\n",
       "      <td>/work1/niejep/SummerSchoolChallenge2022/fungii...</td>\n",
       "      <td>None</td>\n",
       "      <td>test</td>\n",
       "    </tr>\n",
       "    <tr>\n",
       "      <th>4</th>\n",
       "      <td>/work1/niejep/SummerSchoolChallenge2022/fungii...</td>\n",
       "      <td>None</td>\n",
       "      <td>test</td>\n",
       "    </tr>\n",
       "    <tr>\n",
       "      <th>...</th>\n",
       "      <td>...</td>\n",
       "      <td>...</td>\n",
       "      <td>...</td>\n",
       "    </tr>\n",
       "    <tr>\n",
       "      <th>8112</th>\n",
       "      <td>/work1/niejep/SummerSchoolChallenge2022/fungii...</td>\n",
       "      <td>None</td>\n",
       "      <td>test</td>\n",
       "    </tr>\n",
       "    <tr>\n",
       "      <th>8113</th>\n",
       "      <td>/work1/niejep/SummerSchoolChallenge2022/fungii...</td>\n",
       "      <td>None</td>\n",
       "      <td>test</td>\n",
       "    </tr>\n",
       "    <tr>\n",
       "      <th>8114</th>\n",
       "      <td>/work1/niejep/SummerSchoolChallenge2022/fungii...</td>\n",
       "      <td>None</td>\n",
       "      <td>test</td>\n",
       "    </tr>\n",
       "    <tr>\n",
       "      <th>8115</th>\n",
       "      <td>/work1/niejep/SummerSchoolChallenge2022/fungii...</td>\n",
       "      <td>None</td>\n",
       "      <td>test</td>\n",
       "    </tr>\n",
       "    <tr>\n",
       "      <th>8116</th>\n",
       "      <td>/work1/niejep/SummerSchoolChallenge2022/fungii...</td>\n",
       "      <td>None</td>\n",
       "      <td>test</td>\n",
       "    </tr>\n",
       "  </tbody>\n",
       "</table>\n",
       "<p>8117 rows × 3 columns</p>\n",
       "</div>"
      ],
      "text/plain": [
       "                                                  image class   set\n",
       "0     /work1/niejep/SummerSchoolChallenge2022/fungii...  None  test\n",
       "1     /work1/niejep/SummerSchoolChallenge2022/fungii...  None  test\n",
       "2     /work1/niejep/SummerSchoolChallenge2022/fungii...  None  test\n",
       "3     /work1/niejep/SummerSchoolChallenge2022/fungii...  None  test\n",
       "4     /work1/niejep/SummerSchoolChallenge2022/fungii...  None  test\n",
       "...                                                 ...   ...   ...\n",
       "8112  /work1/niejep/SummerSchoolChallenge2022/fungii...  None  test\n",
       "8113  /work1/niejep/SummerSchoolChallenge2022/fungii...  None  test\n",
       "8114  /work1/niejep/SummerSchoolChallenge2022/fungii...  None  test\n",
       "8115  /work1/niejep/SummerSchoolChallenge2022/fungii...  None  test\n",
       "8116  /work1/niejep/SummerSchoolChallenge2022/fungii...  None  test\n",
       "\n",
       "[8117 rows x 3 columns]"
      ]
     },
     "execution_count": 33,
     "metadata": {},
     "output_type": "execute_result"
    }
   ],
   "source": [
    "fungi.team = \"RapidSlug\"\n",
    "fungi.team_pw = \"fungi36\"\n",
    "test_df = fungi.get_test_images(data_path)\n",
    "test_df['set'] = 'test'\n",
    "test_df"
   ]
  },
  {
   "cell_type": "code",
   "execution_count": 35,
   "id": "cf0dd8a5-5b5b-42e7-8db0-07b14edf9f1c",
   "metadata": {},
   "outputs": [
    {
     "name": "stdout",
     "output_type": "stream",
     "text": [
      "36393\n"
     ]
    }
   ],
   "source": [
    "img_paths = set(glob(data_path + '/*.JPG'))\n",
    "print(len(img_paths))"
   ]
  },
  {
   "cell_type": "markdown",
   "id": "06d21de7-2c5a-48b9-a835-50099cdec0b8",
   "metadata": {},
   "source": [
    "### Remove test or train data"
   ]
  },
  {
   "cell_type": "code",
   "execution_count": 36,
   "id": "ecadfc01-3456-4d87-b245-1b26dd873a38",
   "metadata": {},
   "outputs": [],
   "source": [
    "final_img_paths = img_paths.difference(train_df['image'])\n",
    "final_img_paths = final_img_paths.difference(test_df['image'])"
   ]
  },
  {
   "cell_type": "code",
   "execution_count": 38,
   "id": "e2f0601c-7bec-4c24-b767-2ce8778487b3",
   "metadata": {},
   "outputs": [
    {
     "data": {
      "text/plain": [
       "25080"
      ]
     },
     "execution_count": 38,
     "metadata": {},
     "output_type": "execute_result"
    }
   ],
   "source": [
    "len(final_img_paths)"
   ]
  },
  {
   "cell_type": "code",
   "execution_count": 39,
   "id": "25cc898f-ad02-449b-9ad2-1df25fef47ae",
   "metadata": {},
   "outputs": [],
   "source": [
    "final_df = pd.DataFrame(final_img_paths, columns=['image'])\n",
    "final_df['set'] = 'final'"
   ]
  },
  {
   "cell_type": "code",
   "execution_count": 40,
   "id": "639b398a-3eef-4fd4-9408-6df764fcce3c",
   "metadata": {},
   "outputs": [
    {
     "data": {
      "text/html": [
       "<div>\n",
       "<style scoped>\n",
       "    .dataframe tbody tr th:only-of-type {\n",
       "        vertical-align: middle;\n",
       "    }\n",
       "\n",
       "    .dataframe tbody tr th {\n",
       "        vertical-align: top;\n",
       "    }\n",
       "\n",
       "    .dataframe thead th {\n",
       "        text-align: right;\n",
       "    }\n",
       "</style>\n",
       "<table border=\"1\" class=\"dataframe\">\n",
       "  <thead>\n",
       "    <tr style=\"text-align: right;\">\n",
       "      <th></th>\n",
       "      <th>image</th>\n",
       "      <th>class</th>\n",
       "      <th>set</th>\n",
       "    </tr>\n",
       "  </thead>\n",
       "  <tbody>\n",
       "    <tr>\n",
       "      <th>0</th>\n",
       "      <td>/work1/niejep/SummerSchoolChallenge2022/fungii...</td>\n",
       "      <td>0</td>\n",
       "      <td>train</td>\n",
       "    </tr>\n",
       "    <tr>\n",
       "      <th>1</th>\n",
       "      <td>/work1/niejep/SummerSchoolChallenge2022/fungii...</td>\n",
       "      <td>0</td>\n",
       "      <td>train</td>\n",
       "    </tr>\n",
       "    <tr>\n",
       "      <th>2</th>\n",
       "      <td>/work1/niejep/SummerSchoolChallenge2022/fungii...</td>\n",
       "      <td>1</td>\n",
       "      <td>train</td>\n",
       "    </tr>\n",
       "    <tr>\n",
       "      <th>3</th>\n",
       "      <td>/work1/niejep/SummerSchoolChallenge2022/fungii...</td>\n",
       "      <td>2</td>\n",
       "      <td>train</td>\n",
       "    </tr>\n",
       "    <tr>\n",
       "      <th>4</th>\n",
       "      <td>/work1/niejep/SummerSchoolChallenge2022/fungii...</td>\n",
       "      <td>2</td>\n",
       "      <td>train</td>\n",
       "    </tr>\n",
       "    <tr>\n",
       "      <th>...</th>\n",
       "      <td>...</td>\n",
       "      <td>...</td>\n",
       "      <td>...</td>\n",
       "    </tr>\n",
       "    <tr>\n",
       "      <th>25075</th>\n",
       "      <td>/work1/niejep/SummerSchoolChallenge2022/fungii...</td>\n",
       "      <td>NaN</td>\n",
       "      <td>final</td>\n",
       "    </tr>\n",
       "    <tr>\n",
       "      <th>25076</th>\n",
       "      <td>/work1/niejep/SummerSchoolChallenge2022/fungii...</td>\n",
       "      <td>NaN</td>\n",
       "      <td>final</td>\n",
       "    </tr>\n",
       "    <tr>\n",
       "      <th>25077</th>\n",
       "      <td>/work1/niejep/SummerSchoolChallenge2022/fungii...</td>\n",
       "      <td>NaN</td>\n",
       "      <td>final</td>\n",
       "    </tr>\n",
       "    <tr>\n",
       "      <th>25078</th>\n",
       "      <td>/work1/niejep/SummerSchoolChallenge2022/fungii...</td>\n",
       "      <td>NaN</td>\n",
       "      <td>final</td>\n",
       "    </tr>\n",
       "    <tr>\n",
       "      <th>25079</th>\n",
       "      <td>/work1/niejep/SummerSchoolChallenge2022/fungii...</td>\n",
       "      <td>NaN</td>\n",
       "      <td>final</td>\n",
       "    </tr>\n",
       "  </tbody>\n",
       "</table>\n",
       "<p>36393 rows × 3 columns</p>\n",
       "</div>"
      ],
      "text/plain": [
       "                                                   image class    set\n",
       "0      /work1/niejep/SummerSchoolChallenge2022/fungii...     0  train\n",
       "1      /work1/niejep/SummerSchoolChallenge2022/fungii...     0  train\n",
       "2      /work1/niejep/SummerSchoolChallenge2022/fungii...     1  train\n",
       "3      /work1/niejep/SummerSchoolChallenge2022/fungii...     2  train\n",
       "4      /work1/niejep/SummerSchoolChallenge2022/fungii...     2  train\n",
       "...                                                  ...   ...    ...\n",
       "25075  /work1/niejep/SummerSchoolChallenge2022/fungii...   NaN  final\n",
       "25076  /work1/niejep/SummerSchoolChallenge2022/fungii...   NaN  final\n",
       "25077  /work1/niejep/SummerSchoolChallenge2022/fungii...   NaN  final\n",
       "25078  /work1/niejep/SummerSchoolChallenge2022/fungii...   NaN  final\n",
       "25079  /work1/niejep/SummerSchoolChallenge2022/fungii...   NaN  final\n",
       "\n",
       "[36393 rows x 3 columns]"
      ]
     },
     "execution_count": 40,
     "metadata": {},
     "output_type": "execute_result"
    }
   ],
   "source": [
    "df_all = pd.concat((train_df, test_df, final_df))\n",
    "df_all"
   ]
  },
  {
   "cell_type": "code",
   "execution_count": null,
   "id": "f871d68b-89d8-4f8b-8c18-54c03035adc8",
   "metadata": {},
   "outputs": [],
   "source": []
  }
 ],
 "metadata": {
  "kernelspec": {
   "display_name": "Python 3 (ipykernel)",
   "language": "python",
   "name": "python3"
  },
  "language_info": {
   "codemirror_mode": {
    "name": "ipython",
    "version": 3
   },
   "file_extension": ".py",
   "mimetype": "text/x-python",
   "name": "python",
   "nbconvert_exporter": "python",
   "pygments_lexer": "ipython3",
   "version": "3.9.11"
  }
 },
 "nbformat": 4,
 "nbformat_minor": 5
}
