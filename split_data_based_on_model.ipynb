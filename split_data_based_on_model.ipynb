{
 "cells": [
  {
   "cell_type": "markdown",
   "metadata": {},
   "source": [
    "## Run and predict model on all images"
   ]
  },
  {
   "cell_type": "code",
   "execution_count": 13,
   "metadata": {},
   "outputs": [
    {
     "name": "stderr",
     "output_type": "stream",
     "text": [
      "  3%|▎         | 910/36393 [00:18<10:38, 55.58it/s]"
     ]
    }
   ],
   "source": [
    "import torch\n",
    "from efficientnet_pytorch import EfficientNet\n",
    "import glob\n",
    "from PIL import Image\n",
    "import numpy as np\n",
    "from fungi_classification import get_transforms\n",
    "from  tqdm import tqdm\n",
    "\n",
    "\n",
    "data_dir = \"/data/AIDatasets/fungi/DF20M/\"\n",
    "best_trained_model = \"/home/cin/Projects/FungiClassification/saved_models/DF20M-EfficientNet-B0_best_accuracy.pth\"\n",
    "\n",
    "device = torch.device('cuda' if torch.cuda.is_available() else 'cpu')\n",
    "\n",
    "n_classes = 183\n",
    "model = EfficientNet.from_name('efficientnet-b0', num_classes=n_classes)\n",
    "checkpoint = torch.load(best_trained_model)\n",
    "model.load_state_dict(checkpoint)\n",
    "model.to(device).eval()\n",
    "\n",
    "\n",
    "transform = get_transforms(\"valid\")\n",
    "im_paths = sorted(glob.glob(data_dir + \"*.JPG\"))\n",
    "pred_labels = []\n",
    "\n",
    "for im_path in tqdm(im_paths):\n",
    "    im = Image.open(im_path)\n",
    "    im = transform(image=np.asarray(im))\n",
    "    im = im[\"image\"].to(device).unsqueeze(0)\n",
    "\n",
    "    with torch.no_grad():\n",
    "        pred_labels.append(model(im).argmax(1).item())"
   ]
  },
  {
   "cell_type": "markdown",
   "metadata": {},
   "source": [
    "## Move images to new dir"
   ]
  },
  {
   "cell_type": "code",
   "execution_count": null,
   "metadata": {},
   "outputs": [],
   "source": [
    "import os\n",
    "import shutil\n",
    "\n",
    "out_dir = \"/home/cin/Projects/FungiClassification/saved_models/sort_ims\"\n",
    "if not os.path.isdir(out_dir):\n",
    "    os.mkdir(out_dir)\n",
    "    for i in range(183):\n",
    "        os.mkdir(os.path.join(out_dir, str(i)))\n",
    "\n",
    "for im_path, label in zip(im_paths, pred_labels):\n",
    "    shutil.copyfile(im_path, os.path.join(out_dir, label, os.path.basename(im_path)))\n"
   ]
  },
  {
   "cell_type": "code",
   "execution_count": 12,
   "metadata": {},
   "outputs": [
    {
     "data": {
      "text/plain": [
       "'sort_ims.jpg'"
      ]
     },
     "execution_count": 12,
     "metadata": {},
     "output_type": "execute_result"
    }
   ],
   "source": [
    "os.path.basename(out_dir+\".jpg\")"
   ]
  },
  {
   "cell_type": "code",
   "execution_count": null,
   "metadata": {},
   "outputs": [],
   "source": []
  }
 ],
 "metadata": {
  "kernelspec": {
   "display_name": "Python 3.9.12 ('fungidev')",
   "language": "python",
   "name": "python3"
  },
  "language_info": {
   "codemirror_mode": {
    "name": "ipython",
    "version": 3
   },
   "file_extension": ".py",
   "mimetype": "text/x-python",
   "name": "python",
   "nbconvert_exporter": "python",
   "pygments_lexer": "ipython3",
   "version": "3.9.12"
  },
  "orig_nbformat": 4,
  "vscode": {
   "interpreter": {
    "hash": "d26364ba304de4e9b7aac4ea2b13eadfdda35ec8e6579037264d9816ad76f19c"
   }
  }
 },
 "nbformat": 4,
 "nbformat_minor": 2
}
