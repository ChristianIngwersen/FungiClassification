{
 "cells": [
  {
   "cell_type": "code",
   "execution_count": 1,
   "id": "305b98f2-b178-449c-b0e4-76f330e251a0",
   "metadata": {},
   "outputs": [],
   "source": [
    "import os\n",
    "from glob import glob\n",
    "\n",
    "import pandas as pd\n",
    "import numpy as np\n",
    "import matplotlib.pyplot as plt"
   ]
  },
  {
   "cell_type": "code",
   "execution_count": 2,
   "id": "a24ac4b1-f6bd-4f36-8fef-98d78e941dfb",
   "metadata": {},
   "outputs": [],
   "source": [
    "df = pd.read_csv('data_with_labels.csv')"
   ]
  },
  {
   "cell_type": "code",
   "execution_count": 3,
   "id": "c52b1215-58e2-4a3f-9e7e-6b90530183f8",
   "metadata": {},
   "outputs": [
    {
     "data": {
      "text/html": [
       "<div>\n",
       "<style scoped>\n",
       "    .dataframe tbody tr th:only-of-type {\n",
       "        vertical-align: middle;\n",
       "    }\n",
       "\n",
       "    .dataframe tbody tr th {\n",
       "        vertical-align: top;\n",
       "    }\n",
       "\n",
       "    .dataframe thead th {\n",
       "        text-align: right;\n",
       "    }\n",
       "</style>\n",
       "<table border=\"1\" class=\"dataframe\">\n",
       "  <thead>\n",
       "    <tr style=\"text-align: right;\">\n",
       "      <th></th>\n",
       "      <th>image</th>\n",
       "      <th>class</th>\n",
       "    </tr>\n",
       "  </thead>\n",
       "  <tbody>\n",
       "    <tr>\n",
       "      <th>0</th>\n",
       "      <td>/work1/niejep/SummerSchoolChallenge2022/fungii...</td>\n",
       "      <td>0</td>\n",
       "    </tr>\n",
       "    <tr>\n",
       "      <th>1</th>\n",
       "      <td>/work1/niejep/SummerSchoolChallenge2022/fungii...</td>\n",
       "      <td>0</td>\n",
       "    </tr>\n",
       "    <tr>\n",
       "      <th>2</th>\n",
       "      <td>/work1/niejep/SummerSchoolChallenge2022/fungii...</td>\n",
       "      <td>1</td>\n",
       "    </tr>\n",
       "    <tr>\n",
       "      <th>3</th>\n",
       "      <td>/work1/niejep/SummerSchoolChallenge2022/fungii...</td>\n",
       "      <td>2</td>\n",
       "    </tr>\n",
       "    <tr>\n",
       "      <th>4</th>\n",
       "      <td>/work1/niejep/SummerSchoolChallenge2022/fungii...</td>\n",
       "      <td>2</td>\n",
       "    </tr>\n",
       "    <tr>\n",
       "      <th>...</th>\n",
       "      <td>...</td>\n",
       "      <td>...</td>\n",
       "    </tr>\n",
       "    <tr>\n",
       "      <th>3739</th>\n",
       "      <td>/work1/niejep/SummerSchoolChallenge2022/fungii...</td>\n",
       "      <td>26</td>\n",
       "    </tr>\n",
       "    <tr>\n",
       "      <th>3740</th>\n",
       "      <td>/work1/niejep/SummerSchoolChallenge2022/fungii...</td>\n",
       "      <td>151</td>\n",
       "    </tr>\n",
       "    <tr>\n",
       "      <th>3741</th>\n",
       "      <td>/work1/niejep/SummerSchoolChallenge2022/fungii...</td>\n",
       "      <td>56</td>\n",
       "    </tr>\n",
       "    <tr>\n",
       "      <th>3742</th>\n",
       "      <td>/work1/niejep/SummerSchoolChallenge2022/fungii...</td>\n",
       "      <td>12</td>\n",
       "    </tr>\n",
       "    <tr>\n",
       "      <th>3743</th>\n",
       "      <td>/work1/niejep/SummerSchoolChallenge2022/fungii...</td>\n",
       "      <td>48</td>\n",
       "    </tr>\n",
       "  </tbody>\n",
       "</table>\n",
       "<p>3744 rows × 2 columns</p>\n",
       "</div>"
      ],
      "text/plain": [
       "                                                  image  class\n",
       "0     /work1/niejep/SummerSchoolChallenge2022/fungii...      0\n",
       "1     /work1/niejep/SummerSchoolChallenge2022/fungii...      0\n",
       "2     /work1/niejep/SummerSchoolChallenge2022/fungii...      1\n",
       "3     /work1/niejep/SummerSchoolChallenge2022/fungii...      2\n",
       "4     /work1/niejep/SummerSchoolChallenge2022/fungii...      2\n",
       "...                                                 ...    ...\n",
       "3739  /work1/niejep/SummerSchoolChallenge2022/fungii...     26\n",
       "3740  /work1/niejep/SummerSchoolChallenge2022/fungii...    151\n",
       "3741  /work1/niejep/SummerSchoolChallenge2022/fungii...     56\n",
       "3742  /work1/niejep/SummerSchoolChallenge2022/fungii...     12\n",
       "3743  /work1/niejep/SummerSchoolChallenge2022/fungii...     48\n",
       "\n",
       "[3744 rows x 2 columns]"
      ]
     },
     "execution_count": 3,
     "metadata": {},
     "output_type": "execute_result"
    }
   ],
   "source": [
    "df"
   ]
  },
  {
   "cell_type": "code",
   "execution_count": 4,
   "id": "934ec30a-db85-408e-9cec-3c4f19733612",
   "metadata": {},
   "outputs": [],
   "source": [
    "g = df.groupby('class')"
   ]
  },
  {
   "cell_type": "code",
   "execution_count": 5,
   "id": "656dd1bc-6e0a-4ca9-b5bd-acfdf7690fed",
   "metadata": {},
   "outputs": [
    {
     "data": {
      "image/png": "[encoded data removed]",
      "text/plain": [
       "<Figure size 432x288 with 1 Axes>"
      ]
     },
     "metadata": {
      "needs_background": "light"
     },
     "output_type": "display_data"
    }
   ],
   "source": [
    "plt.hist(df['class'], bins=df['class'].max())\n",
    "plt.show()"
   ]
  },
  {
   "cell_type": "code",
   "execution_count": 6,
   "id": "823ffb08-4a09-4cae-b4fe-dd443196868a",
   "metadata": {},
   "outputs": [],
   "source": [
    "c = df['class'].to_numpy()"
   ]
  },
  {
   "cell_type": "code",
   "execution_count": 7,
   "id": "2288da46-6718-4b36-9efe-21bcd2230b48",
   "metadata": {},
   "outputs": [],
   "source": [
    "c_bins = np.bincount(c)"
   ]
  },
  {
   "cell_type": "code",
   "execution_count": 8,
   "id": "54616dbe-2a08-4c14-977b-81adcf532d6b",
   "metadata": {},
   "outputs": [],
   "source": [
    "sort = np.argsort(c_bins)[::-1]"
   ]
  },
  {
   "cell_type": "code",
   "execution_count": 9,
   "id": "67f4acb8-c2c4-4c56-aeb9-3886cec0aa49",
   "metadata": {},
   "outputs": [],
   "source": [
    "c_sorted = c_bins[sort]"
   ]
  },
  {
   "cell_type": "code",
   "execution_count": 10,
   "id": "1952bdc3-f16e-480c-9dca-9e566f7bb5fe",
   "metadata": {},
   "outputs": [
    {
     "data": {
      "image/png": "[encoded data removed]",
      "text/plain": [
       "<Figure size 432x288 with 1 Axes>"
      ]
     },
     "metadata": {
      "needs_background": "light"
     },
     "output_type": "display_data"
    }
   ],
   "source": [
    "plt.bar(range(len(c_sorted)), c_sorted)\n",
    "plt.show()"
   ]
  },
  {
   "cell_type": "code",
   "execution_count": 11,
   "id": "1395769b-7424-4b78-85eb-60c604f4cb64",
   "metadata": {},
   "outputs": [
    {
     "data": {
      "image/png": "[encoded data removed]",
      "text/plain": [
       "<Figure size 432x288 with 1 Axes>"
      ]
     },
     "metadata": {
      "needs_background": "light"
     },
     "output_type": "display_data"
    }
   ],
   "source": [
    "plt.bar(range(len(c_sorted)), np.cumsum(c_sorted) / len(df))\n",
    "plt.axhline(0.5)\n",
    "plt.axhline(0.6)\n",
    "plt.show()"
   ]
  },
  {
   "cell_type": "code",
   "execution_count": 12,
   "id": "e921eba8-3b4e-4201-abe0-2bbc4a8dfb09",
   "metadata": {},
   "outputs": [
    {
     "data": {
      "text/plain": [
       "array([38, 56, 24,  6, 11, 58, 12,  0, 18, 84, 55, 57, 52, 44,  7,  5, 49,\n",
       "       11, 21, 40, 42,  4, 55,  2, 24, 14, 65, 66, 39, 29, 56, 69,  1, 34,\n",
       "       23, 14,  1,  1, 56, 34, 24,  1,  2,  8, 56,  1, 14, 42, 64, 72,  8,\n",
       "        0, 55, 15, 43,  9, 26, 36, 10, 64, 30, 27, 19, 32, 17, 61, 56, 13,\n",
       "       60, 25, 19, 73, 34, 47, 69,  3, 46, 20, 54, 88, 23, 47, 64, 16, 36,\n",
       "       57, 53, 10, 41, 51, 55, 81,  5, 53,  2, 48, 37, 44, 71,  2, 63, 89,\n",
       "       33, 59, 81, 15, 14, 14, 69,  3,  5, 21, 45, 41, 68, 22, 21, 10, 48,\n",
       "       79, 75, 14, 62, 21, 74,  9, 67, 10, 15, 86, 14, 16,  6, 27, 31, 87,\n",
       "       13, 31, 83, 35, 31, 59, 82, 70, 34, 80, 50, 42, 27, 11, 48, 76, 75,\n",
       "       56, 67, 21, 64,  2,  9, 28, 29, 16, 43, 19, 11, 18, 13,  8,  0, 61,\n",
       "       11, 11, 78, 85, 14, 90, 91, 86, 19, 77, 86, 92, 51], dtype=int64)"
      ]
     },
     "execution_count": 12,
     "metadata": {},
     "output_type": "execute_result"
    }
   ],
   "source": [
    "c[sort]"
   ]
  },
  {
   "cell_type": "code",
   "execution_count": 13,
   "id": "84217d0d-280e-42e9-903a-e57d49591f5a",
   "metadata": {},
   "outputs": [
    {
     "data": {
      "text/plain": [
       "array([140, 100,  88,  87,  77,  71,  65,  61,  58,  58,  53,  53,  52,\n",
       "        51,  50,  49,  49,  48,  47,  45,  44,  41,  40,  38,  37,  36,\n",
       "        35,  35,  35,  34,  34,  33,  33,  33,  32,  32,  31,  30,  30,\n",
       "        28,  28,  28,  28,  28,  27,  27,  27,  26,  26,  25,  25,  25,\n",
       "        23,  23,  23,  22,  22,  22,  22,  21,  21,  21,  21,  21,  21,\n",
       "        21,  21,  20,  20,  20,  20,  20,  20,  19,  19,  19,  19,  18,\n",
       "        18,  18,  18,  18,  17,  17,  17,  16,  16,  16,  16,  15,  15,\n",
       "        15,  15,  14,  14,  14,  13,  13,  13,  13,  13,  12,  12,  12,\n",
       "        12,  11,  11,  11,  11,  11,  11,  11,  11,  10,  10,  10,  10,\n",
       "        10,   9,   9,   9,   9,   9,   9,   8,   8,   8,   8,   7,   7,\n",
       "         7,   7,   7,   7,   7,   6,   6,   6,   6,   6,   6,   6,   6,\n",
       "         6,   6,   6,   6,   5,   5,   5,   5,   5,   5,   5,   5,   5,\n",
       "         5,   5,   5,   5,   5,   5,   4,   4,   4,   4,   4,   4,   4,\n",
       "         4,   4,   4,   3,   3,   3,   3,   3,   3,   3,   3,   3,   2,\n",
       "         1], dtype=int64)"
      ]
     },
     "execution_count": 13,
     "metadata": {},
     "output_type": "execute_result"
    }
   ],
   "source": [
    "c_sorted"
   ]
  },
  {
   "cell_type": "code",
   "execution_count": 14,
   "id": "5298b82e-9ce2-4812-af80-09aae1b5bf6a",
   "metadata": {},
   "outputs": [],
   "source": [
    "data_sort = np.load('data_sort_new.npy')"
   ]
  },
  {
   "cell_type": "code",
   "execution_count": 15,
   "id": "50dc70d9-bd0d-46a6-9851-42cd43c4b358",
   "metadata": {},
   "outputs": [
    {
     "data": {
      "text/html": [
       "<div>\n",
       "<style scoped>\n",
       "    .dataframe tbody tr th:only-of-type {\n",
       "        vertical-align: middle;\n",
       "    }\n",
       "\n",
       "    .dataframe tbody tr th {\n",
       "        vertical-align: top;\n",
       "    }\n",
       "\n",
       "    .dataframe thead th {\n",
       "        text-align: right;\n",
       "    }\n",
       "</style>\n",
       "<table border=\"1\" class=\"dataframe\">\n",
       "  <thead>\n",
       "    <tr style=\"text-align: right;\">\n",
       "      <th></th>\n",
       "      <th>image</th>\n",
       "      <th>class</th>\n",
       "    </tr>\n",
       "  </thead>\n",
       "  <tbody>\n",
       "    <tr>\n",
       "      <th>0</th>\n",
       "      <td>2237852381-222754.JPG</td>\n",
       "      <td>0</td>\n",
       "    </tr>\n",
       "    <tr>\n",
       "      <th>1</th>\n",
       "      <td>2237852388-108.JPG</td>\n",
       "      <td>0</td>\n",
       "    </tr>\n",
       "    <tr>\n",
       "      <th>2</th>\n",
       "      <td>2237852964-74877.JPG</td>\n",
       "      <td>1</td>\n",
       "    </tr>\n",
       "    <tr>\n",
       "      <th>3</th>\n",
       "      <td>2237853192-298146.JPG</td>\n",
       "      <td>2</td>\n",
       "    </tr>\n",
       "    <tr>\n",
       "      <th>4</th>\n",
       "      <td>2237853950-148876.JPG</td>\n",
       "      <td>2</td>\n",
       "    </tr>\n",
       "    <tr>\n",
       "      <th>...</th>\n",
       "      <td>...</td>\n",
       "      <td>...</td>\n",
       "    </tr>\n",
       "    <tr>\n",
       "      <th>3739</th>\n",
       "      <td>2238231203-11132.JPG</td>\n",
       "      <td>26</td>\n",
       "    </tr>\n",
       "    <tr>\n",
       "      <th>3740</th>\n",
       "      <td>2238326715-159996.JPG</td>\n",
       "      <td>151</td>\n",
       "    </tr>\n",
       "    <tr>\n",
       "      <th>3741</th>\n",
       "      <td>2238329351-234166.JPG</td>\n",
       "      <td>56</td>\n",
       "    </tr>\n",
       "    <tr>\n",
       "      <th>3742</th>\n",
       "      <td>2238336059-86299.JPG</td>\n",
       "      <td>12</td>\n",
       "    </tr>\n",
       "    <tr>\n",
       "      <th>3743</th>\n",
       "      <td>2238338360-160465.JPG</td>\n",
       "      <td>48</td>\n",
       "    </tr>\n",
       "  </tbody>\n",
       "</table>\n",
       "<p>3744 rows × 2 columns</p>\n",
       "</div>"
      ],
      "text/plain": [
       "                      image  class\n",
       "0     2237852381-222754.JPG      0\n",
       "1        2237852388-108.JPG      0\n",
       "2      2237852964-74877.JPG      1\n",
       "3     2237853192-298146.JPG      2\n",
       "4     2237853950-148876.JPG      2\n",
       "...                     ...    ...\n",
       "3739   2238231203-11132.JPG     26\n",
       "3740  2238326715-159996.JPG    151\n",
       "3741  2238329351-234166.JPG     56\n",
       "3742   2238336059-86299.JPG     12\n",
       "3743  2238338360-160465.JPG     48\n",
       "\n",
       "[3744 rows x 2 columns]"
      ]
     },
     "execution_count": 15,
     "metadata": {},
     "output_type": "execute_result"
    }
   ],
   "source": [
    "# df = df.set_index('image')\n",
    "df['image'] = df['image'].str.split('/').str[-1]\n",
    "df"
   ]
  },
  {
   "cell_type": "code",
   "execution_count": 16,
   "id": "1348990c-c479-4655-927e-4e8e6caf8ba9",
   "metadata": {},
   "outputs": [],
   "source": [
    "df_preds = pd.DataFrame({'image': data_sort['im_names'], 'pred': data_sort['pred_labels']})\n",
    "df_preds['image'] = df_preds['image'].str.replace('/data/AIDatasets/fungi/DF20M/', '')"
   ]
  },
  {
   "cell_type": "code",
   "execution_count": 17,
   "id": "891c5438-4244-4632-87ed-7684b3bcdff8",
   "metadata": {},
   "outputs": [],
   "source": [
    "g = df_preds.groupby('pred')"
   ]
  },
  {
   "cell_type": "code",
   "execution_count": 18,
   "id": "1de0cdde-3a30-4373-a06b-e5d749b94f83",
   "metadata": {},
   "outputs": [
    {
     "data": {
      "text/html": [
       "<div>\n",
       "<style scoped>\n",
       "    .dataframe tbody tr th:only-of-type {\n",
       "        vertical-align: middle;\n",
       "    }\n",
       "\n",
       "    .dataframe tbody tr th {\n",
       "        vertical-align: top;\n",
       "    }\n",
       "\n",
       "    .dataframe thead tr th {\n",
       "        text-align: left;\n",
       "    }\n",
       "\n",
       "    .dataframe thead tr:last-of-type th {\n",
       "        text-align: right;\n",
       "    }\n",
       "</style>\n",
       "<table border=\"1\" class=\"dataframe\">\n",
       "  <thead>\n",
       "    <tr>\n",
       "      <th></th>\n",
       "      <th colspan=\"4\" halign=\"left\">image</th>\n",
       "    </tr>\n",
       "    <tr>\n",
       "      <th></th>\n",
       "      <th>count</th>\n",
       "      <th>unique</th>\n",
       "      <th>top</th>\n",
       "      <th>freq</th>\n",
       "    </tr>\n",
       "    <tr>\n",
       "      <th>pred</th>\n",
       "      <th></th>\n",
       "      <th></th>\n",
       "      <th></th>\n",
       "      <th></th>\n",
       "    </tr>\n",
       "  </thead>\n",
       "  <tbody>\n",
       "    <tr>\n",
       "      <th>0</th>\n",
       "      <td>361</td>\n",
       "      <td>361</td>\n",
       "      <td>2237852360-148530.JPG</td>\n",
       "      <td>1</td>\n",
       "    </tr>\n",
       "    <tr>\n",
       "      <th>1</th>\n",
       "      <td>351</td>\n",
       "      <td>351</td>\n",
       "      <td>2237852204-74704.JPG</td>\n",
       "      <td>1</td>\n",
       "    </tr>\n",
       "    <tr>\n",
       "      <th>2</th>\n",
       "      <td>569</td>\n",
       "      <td>569</td>\n",
       "      <td>2237852116-222680.JPG</td>\n",
       "      <td>1</td>\n",
       "    </tr>\n",
       "    <tr>\n",
       "      <th>4</th>\n",
       "      <td>8</td>\n",
       "      <td>8</td>\n",
       "      <td>2237914483-2893.JPG</td>\n",
       "      <td>1</td>\n",
       "    </tr>\n",
       "    <tr>\n",
       "      <th>5</th>\n",
       "      <td>64</td>\n",
       "      <td>64</td>\n",
       "      <td>2237958711-226903.JPG</td>\n",
       "      <td>1</td>\n",
       "    </tr>\n",
       "    <tr>\n",
       "      <th>...</th>\n",
       "      <td>...</td>\n",
       "      <td>...</td>\n",
       "      <td>...</td>\n",
       "      <td>...</td>\n",
       "    </tr>\n",
       "    <tr>\n",
       "      <th>170</th>\n",
       "      <td>435</td>\n",
       "      <td>435</td>\n",
       "      <td>2237887395-150908.JPG</td>\n",
       "      <td>1</td>\n",
       "    </tr>\n",
       "    <tr>\n",
       "      <th>171</th>\n",
       "      <td>1001</td>\n",
       "      <td>1001</td>\n",
       "      <td>2237854094-75098.JPG</td>\n",
       "      <td>1</td>\n",
       "    </tr>\n",
       "    <tr>\n",
       "      <th>172</th>\n",
       "      <td>8</td>\n",
       "      <td>8</td>\n",
       "      <td>2238351329-87027.JPG</td>\n",
       "      <td>1</td>\n",
       "    </tr>\n",
       "    <tr>\n",
       "      <th>177</th>\n",
       "      <td>2</td>\n",
       "      <td>2</td>\n",
       "      <td>2812984303-59059.JPG</td>\n",
       "      <td>1</td>\n",
       "    </tr>\n",
       "    <tr>\n",
       "      <th>181</th>\n",
       "      <td>1</td>\n",
       "      <td>1</td>\n",
       "      <td>2421822784-119401.JPG</td>\n",
       "      <td>1</td>\n",
       "    </tr>\n",
       "  </tbody>\n",
       "</table>\n",
       "<p>147 rows × 4 columns</p>\n",
       "</div>"
      ],
      "text/plain": [
       "     image                                   \n",
       "     count unique                    top freq\n",
       "pred                                         \n",
       "0      361    361  2237852360-148530.JPG    1\n",
       "1      351    351   2237852204-74704.JPG    1\n",
       "2      569    569  2237852116-222680.JPG    1\n",
       "4        8      8    2237914483-2893.JPG    1\n",
       "5       64     64  2237958711-226903.JPG    1\n",
       "...    ...    ...                    ...  ...\n",
       "170    435    435  2237887395-150908.JPG    1\n",
       "171   1001   1001   2237854094-75098.JPG    1\n",
       "172      8      8   2238351329-87027.JPG    1\n",
       "177      2      2   2812984303-59059.JPG    1\n",
       "181      1      1  2421822784-119401.JPG    1\n",
       "\n",
       "[147 rows x 4 columns]"
      ]
     },
     "execution_count": 18,
     "metadata": {},
     "output_type": "execute_result"
    }
   ],
   "source": [
    "g.describe()"
   ]
  },
  {
   "cell_type": "code",
   "execution_count": 19,
   "id": "176907ba-b9c2-4815-8963-19eb8d6c2abb",
   "metadata": {},
   "outputs": [],
   "source": [
    "pred_count = g.count()"
   ]
  },
  {
   "cell_type": "code",
   "execution_count": 20,
   "id": "0f3c56d1-2d1b-4e0c-91ab-40285cbcd4d3",
   "metadata": {},
   "outputs": [
    {
     "data": {
      "text/html": [
       "<div>\n",
       "<style scoped>\n",
       "    .dataframe tbody tr th:only-of-type {\n",
       "        vertical-align: middle;\n",
       "    }\n",
       "\n",
       "    .dataframe tbody tr th {\n",
       "        vertical-align: top;\n",
       "    }\n",
       "\n",
       "    .dataframe thead th {\n",
       "        text-align: right;\n",
       "    }\n",
       "</style>\n",
       "<table border=\"1\" class=\"dataframe\">\n",
       "  <thead>\n",
       "    <tr style=\"text-align: right;\">\n",
       "      <th></th>\n",
       "      <th>image</th>\n",
       "    </tr>\n",
       "    <tr>\n",
       "      <th>pred</th>\n",
       "      <th></th>\n",
       "    </tr>\n",
       "  </thead>\n",
       "  <tbody>\n",
       "    <tr>\n",
       "      <th>87</th>\n",
       "      <td>2092</td>\n",
       "    </tr>\n",
       "    <tr>\n",
       "      <th>107</th>\n",
       "      <td>2031</td>\n",
       "    </tr>\n",
       "    <tr>\n",
       "      <th>75</th>\n",
       "      <td>1526</td>\n",
       "    </tr>\n",
       "    <tr>\n",
       "      <th>67</th>\n",
       "      <td>1480</td>\n",
       "    </tr>\n",
       "    <tr>\n",
       "      <th>56</th>\n",
       "      <td>1258</td>\n",
       "    </tr>\n",
       "    <tr>\n",
       "      <th>130</th>\n",
       "      <td>1026</td>\n",
       "    </tr>\n",
       "    <tr>\n",
       "      <th>171</th>\n",
       "      <td>1001</td>\n",
       "    </tr>\n",
       "    <tr>\n",
       "      <th>34</th>\n",
       "      <td>995</td>\n",
       "    </tr>\n",
       "    <tr>\n",
       "      <th>15</th>\n",
       "      <td>895</td>\n",
       "    </tr>\n",
       "    <tr>\n",
       "      <th>51</th>\n",
       "      <td>858</td>\n",
       "    </tr>\n",
       "  </tbody>\n",
       "</table>\n",
       "</div>"
      ],
      "text/plain": [
       "      image\n",
       "pred       \n",
       "87     2092\n",
       "107    2031\n",
       "75     1526\n",
       "67     1480\n",
       "56     1258\n",
       "130    1026\n",
       "171    1001\n",
       "34      995\n",
       "15      895\n",
       "51      858"
      ]
     },
     "execution_count": 20,
     "metadata": {},
     "output_type": "execute_result"
    }
   ],
   "source": [
    "pred_counts = pred_count.sort_values('image', ascending=False).head(10)\n",
    "pred_counts"
   ]
  },
  {
   "cell_type": "code",
   "execution_count": 44,
   "id": "fe569390-5847-4769-9a19-7f7ade0a08e6",
   "metadata": {},
   "outputs": [
    {
     "data": {
      "text/plain": [
       "<AxesSubplot:xlabel='pred'>"
      ]
     },
     "execution_count": 44,
     "metadata": {},
     "output_type": "execute_result"
    },
    {
     "data": {
      "image/png": "[encoded data removed]",
      "text/plain": [
       "<Figure size 432x288 with 1 Axes>"
      ]
     },
     "metadata": {
      "needs_background": "light"
     },
     "output_type": "display_data"
    }
   ],
   "source": [
    "pred_counts.plot.bar()"
   ]
  },
  {
   "cell_type": "code",
   "execution_count": 22,
   "id": "9d91e81c-5383-4241-99b6-cf7cf1f1725d",
   "metadata": {},
   "outputs": [
    {
     "data": {
      "text/html": [
       "<div>\n",
       "<style scoped>\n",
       "    .dataframe tbody tr th:only-of-type {\n",
       "        vertical-align: middle;\n",
       "    }\n",
       "\n",
       "    .dataframe tbody tr th {\n",
       "        vertical-align: top;\n",
       "    }\n",
       "\n",
       "    .dataframe thead th {\n",
       "        text-align: right;\n",
       "    }\n",
       "</style>\n",
       "<table border=\"1\" class=\"dataframe\">\n",
       "  <thead>\n",
       "    <tr style=\"text-align: right;\">\n",
       "      <th></th>\n",
       "      <th>image</th>\n",
       "      <th>class</th>\n",
       "      <th>pred</th>\n",
       "    </tr>\n",
       "  </thead>\n",
       "  <tbody>\n",
       "    <tr>\n",
       "      <th>0</th>\n",
       "      <td>2237852381-222754.JPG</td>\n",
       "      <td>0</td>\n",
       "      <td>10</td>\n",
       "    </tr>\n",
       "    <tr>\n",
       "      <th>1</th>\n",
       "      <td>2237852388-108.JPG</td>\n",
       "      <td>0</td>\n",
       "      <td>53</td>\n",
       "    </tr>\n",
       "    <tr>\n",
       "      <th>2</th>\n",
       "      <td>2237852964-74877.JPG</td>\n",
       "      <td>1</td>\n",
       "      <td>107</td>\n",
       "    </tr>\n",
       "    <tr>\n",
       "      <th>3</th>\n",
       "      <td>2237853192-298146.JPG</td>\n",
       "      <td>2</td>\n",
       "      <td>2</td>\n",
       "    </tr>\n",
       "    <tr>\n",
       "      <th>4</th>\n",
       "      <td>2237853950-148876.JPG</td>\n",
       "      <td>2</td>\n",
       "      <td>2</td>\n",
       "    </tr>\n",
       "    <tr>\n",
       "      <th>...</th>\n",
       "      <td>...</td>\n",
       "      <td>...</td>\n",
       "      <td>...</td>\n",
       "    </tr>\n",
       "    <tr>\n",
       "      <th>3739</th>\n",
       "      <td>2238231203-11132.JPG</td>\n",
       "      <td>26</td>\n",
       "      <td>87</td>\n",
       "    </tr>\n",
       "    <tr>\n",
       "      <th>3740</th>\n",
       "      <td>2238326715-159996.JPG</td>\n",
       "      <td>151</td>\n",
       "      <td>105</td>\n",
       "    </tr>\n",
       "    <tr>\n",
       "      <th>3741</th>\n",
       "      <td>2238329351-234166.JPG</td>\n",
       "      <td>56</td>\n",
       "      <td>56</td>\n",
       "    </tr>\n",
       "    <tr>\n",
       "      <th>3742</th>\n",
       "      <td>2238336059-86299.JPG</td>\n",
       "      <td>12</td>\n",
       "      <td>67</td>\n",
       "    </tr>\n",
       "    <tr>\n",
       "      <th>3743</th>\n",
       "      <td>2238338360-160465.JPG</td>\n",
       "      <td>48</td>\n",
       "      <td>48</td>\n",
       "    </tr>\n",
       "  </tbody>\n",
       "</table>\n",
       "<p>3744 rows × 3 columns</p>\n",
       "</div>"
      ],
      "text/plain": [
       "                      image  class  pred\n",
       "0     2237852381-222754.JPG      0    10\n",
       "1        2237852388-108.JPG      0    53\n",
       "2      2237852964-74877.JPG      1   107\n",
       "3     2237853192-298146.JPG      2     2\n",
       "4     2237853950-148876.JPG      2     2\n",
       "...                     ...    ...   ...\n",
       "3739   2238231203-11132.JPG     26    87\n",
       "3740  2238326715-159996.JPG    151   105\n",
       "3741  2238329351-234166.JPG     56    56\n",
       "3742   2238336059-86299.JPG     12    67\n",
       "3743  2238338360-160465.JPG     48    48\n",
       "\n",
       "[3744 rows x 3 columns]"
      ]
     },
     "execution_count": 22,
     "metadata": {},
     "output_type": "execute_result"
    }
   ],
   "source": [
    "df_all = pd.merge(df, df_preds, on='image')\n",
    "df_all"
   ]
  },
  {
   "cell_type": "code",
   "execution_count": 23,
   "id": "a34844ca-54fc-4e84-bcad-7aba7615b8d1",
   "metadata": {},
   "outputs": [],
   "source": [
    "from sklearn import metrics"
   ]
  },
  {
   "cell_type": "code",
   "execution_count": 24,
   "id": "258f0d01-9739-44a8-8667-770492a3c38e",
   "metadata": {},
   "outputs": [],
   "source": [
    "m = metrics.confusion_matrix(df_all['class'], df_all['pred'])"
   ]
  },
  {
   "cell_type": "code",
   "execution_count": 25,
   "id": "f930c711-78d8-456b-a1cf-9b5f2276a13d",
   "metadata": {},
   "outputs": [],
   "source": [
    "# np.where(m[142])"
   ]
  },
  {
   "cell_type": "code",
   "execution_count": 26,
   "id": "b13a780e-63cb-419f-9933-17949b1d57a2",
   "metadata": {},
   "outputs": [
    {
     "data": {
      "image/png": "[encoded data removed]",
      "text/plain": [
       "<Figure size 1080x1080 with 1 Axes>"
      ]
     },
     "metadata": {
      "needs_background": "light"
     },
     "output_type": "display_data"
    }
   ],
   "source": [
    "fig, ax = plt.subplots(1,1, figsize=(15, 15))\n",
    "ax.imshow(np.log(m + 0.0005))\n",
    "plt.show()"
   ]
  },
  {
   "cell_type": "code",
   "execution_count": 27,
   "id": "f2c567e5-7960-4fbe-a280-9d4de18f5c78",
   "metadata": {},
   "outputs": [
    {
     "name": "stderr",
     "output_type": "stream",
     "text": [
      "C:\\Users\\nje\\AppData\\Local\\Temp/ipykernel_26376/994953485.py:1: RuntimeWarning: invalid value encountered in true_divide\n",
      "  plt.plot(np.diagonal(m) / m.sum(0))\n"
     ]
    },
    {
     "data": {
      "text/plain": [
       "[<matplotlib.lines.Line2D at 0x1979b0494c0>]"
      ]
     },
     "execution_count": 27,
     "metadata": {},
     "output_type": "execute_result"
    },
    {
     "data": {
      "image/png": "[encoded data removed]",
      "text/plain": [
       "<Figure size 432x288 with 1 Axes>"
      ]
     },
     "metadata": {
      "needs_background": "light"
     },
     "output_type": "display_data"
    }
   ],
   "source": [
    "plt.plot(np.diagonal(m) / m.sum(0))"
   ]
  },
  {
   "cell_type": "code",
   "execution_count": 28,
   "id": "88036750-5e08-4513-8227-223c84603b75",
   "metadata": {},
   "outputs": [
    {
     "name": "stderr",
     "output_type": "stream",
     "text": [
      "C:\\Users\\nje\\AppData\\Local\\Temp/ipykernel_26376/3477649289.py:1: RuntimeWarning: invalid value encountered in true_divide\n",
      "  np.nanargmin((np.diagonal(m) / m.sum(0))[100:125]) + 100\n"
     ]
    },
    {
     "data": {
      "text/plain": [
       "107"
      ]
     },
     "execution_count": 28,
     "metadata": {},
     "output_type": "execute_result"
    }
   ],
   "source": [
    "np.nanargmin((np.diagonal(m) / m.sum(0))[100:125]) + 100"
   ]
  },
  {
   "cell_type": "code",
   "execution_count": 29,
   "id": "b71b3838-7808-4d6d-93f2-04f589bee8ef",
   "metadata": {},
   "outputs": [
    {
     "data": {
      "text/plain": [
       "[<matplotlib.lines.Line2D at 0x1979b0b26d0>]"
      ]
     },
     "execution_count": 29,
     "metadata": {},
     "output_type": "execute_result"
    },
    {
     "data": {
      "image/png": "[encoded data removed]",
      "text/plain": [
       "<Figure size 432x288 with 1 Axes>"
      ]
     },
     "metadata": {
      "needs_background": "light"
     },
     "output_type": "display_data"
    }
   ],
   "source": [
    "plt.plot(np.diagonal(m) / m.sum(1))"
   ]
  },
  {
   "cell_type": "code",
   "execution_count": 30,
   "id": "ee9b3f70-470b-4607-a878-20f79121c906",
   "metadata": {},
   "outputs": [
    {
     "data": {
      "text/plain": [
       "184"
      ]
     },
     "execution_count": 30,
     "metadata": {},
     "output_type": "execute_result"
    }
   ],
   "source": [
    "m[:, 67].sum()"
   ]
  },
  {
   "cell_type": "code",
   "execution_count": 31,
   "id": "e90edf80-e59e-41b3-9fc1-64d9998cc338",
   "metadata": {},
   "outputs": [
    {
     "data": {
      "text/plain": [
       "230"
      ]
     },
     "execution_count": 31,
     "metadata": {},
     "output_type": "execute_result"
    }
   ],
   "source": [
    "m[:, 107].sum()"
   ]
  },
  {
   "cell_type": "code",
   "execution_count": 32,
   "id": "12057faa-9794-4658-8f5c-dd430685b0be",
   "metadata": {},
   "outputs": [
    {
     "data": {
      "text/plain": [
       "193"
      ]
     },
     "execution_count": 32,
     "metadata": {},
     "output_type": "execute_result"
    }
   ],
   "source": [
    "m[:, 75].sum()"
   ]
  },
  {
   "cell_type": "code",
   "execution_count": 33,
   "id": "50f9ac48-aaf1-43c0-83be-3976c6a36a47",
   "metadata": {},
   "outputs": [
    {
     "data": {
      "text/plain": [
       "105"
      ]
     },
     "execution_count": 33,
     "metadata": {},
     "output_type": "execute_result"
    }
   ],
   "source": [
    "m[:, 51].sum()"
   ]
  },
  {
   "cell_type": "code",
   "execution_count": 34,
   "id": "57f3d192-51bb-4087-8e41-1bb99b36df89",
   "metadata": {},
   "outputs": [
    {
     "data": {
      "text/plain": [
       "143"
      ]
     },
     "execution_count": 34,
     "metadata": {},
     "output_type": "execute_result"
    }
   ],
   "source": [
    "m[:, 56].sum()"
   ]
  },
  {
   "cell_type": "code",
   "execution_count": 35,
   "id": "76b4f97f-0974-4f6c-9b7e-7ea3260ea03a",
   "metadata": {},
   "outputs": [
    {
     "data": {
      "text/plain": [
       "[<matplotlib.lines.Line2D at 0x1979b116880>]"
      ]
     },
     "execution_count": 35,
     "metadata": {},
     "output_type": "execute_result"
    },
    {
     "data": {
      "image/png": "[encoded data removed]",
      "text/plain": [
       "<Figure size 432x288 with 1 Axes>"
      ]
     },
     "metadata": {
      "needs_background": "light"
     },
     "output_type": "display_data"
    }
   ],
   "source": [
    "plt.plot(m.sum(0))"
   ]
  },
  {
   "cell_type": "code",
   "execution_count": 36,
   "id": "65bfef57-defa-4fec-b50b-dca22a7cdb24",
   "metadata": {},
   "outputs": [
    {
     "data": {
      "text/plain": [
       "(array([ 15,  16,  34,  51,  56,  57,  67,  69,  75,  78,  82,  87, 103,\n",
       "        105, 107, 130, 151, 171], dtype=int64),)"
      ]
     },
     "execution_count": 36,
     "metadata": {},
     "output_type": "execute_result"
    }
   ],
   "source": [
    "np.where(m.sum(0) > 50)"
   ]
  },
  {
   "cell_type": "code",
   "execution_count": 37,
   "id": "4c0425a5-a404-4bcb-b599-6f503b2b4d06",
   "metadata": {},
   "outputs": [
    {
     "data": {
      "text/plain": [
       "(array([67], dtype=int64),)"
      ]
     },
     "execution_count": 37,
     "metadata": {},
     "output_type": "execute_result"
    }
   ],
   "source": [
    "np.where(m.sum(0) / m.sum(1) > 10)"
   ]
  },
  {
   "cell_type": "code",
   "execution_count": 38,
   "id": "6cd87655-0563-4d36-9cd8-0227e26deaa6",
   "metadata": {},
   "outputs": [
    {
     "data": {
      "text/plain": [
       "[<matplotlib.lines.Line2D at 0x1979b1817f0>]"
      ]
     },
     "execution_count": 38,
     "metadata": {},
     "output_type": "execute_result"
    },
    {
     "data": {
      "image/png": "[encoded data removed]",
      "text/plain": [
       "<Figure size 432x288 with 1 Axes>"
      ]
     },
     "metadata": {
      "needs_background": "light"
     },
     "output_type": "display_data"
    }
   ],
   "source": [
    "plt.plot(m.sum(0) / m.sum(1))"
   ]
  },
  {
   "cell_type": "code",
   "execution_count": 39,
   "id": "246ab41b-726d-40c0-9876-8cf94f9d4352",
   "metadata": {},
   "outputs": [
    {
     "name": "stdout",
     "output_type": "stream",
     "text": [
      "              precision    recall  f1-score   support\n",
      "\n",
      "           0       0.44      0.56      0.49        25\n",
      "           1       0.53      0.33      0.40        61\n",
      "           2       0.57      0.85      0.68        33\n",
      "           3       0.00      0.00      0.00         5\n",
      "           4       1.00      0.15      0.27        13\n",
      "           5       0.36      0.13      0.19        38\n",
      "           6       0.17      0.21      0.19        28\n",
      "           7       0.67      0.14      0.24        28\n",
      "           8       0.67      0.07      0.13        27\n",
      "           9       0.53      0.32      0.40        31\n",
      "          10       0.52      0.47      0.49        30\n",
      "          11       0.45      0.47      0.46        19\n",
      "          12       0.00      0.00      0.00        11\n",
      "          13       0.52      0.34      0.41        41\n",
      "          14       0.79      0.31      0.44        49\n",
      "          15       0.66      0.66      0.66        87\n",
      "          16       0.67      0.74      0.70        50\n",
      "          17       0.60      0.32      0.42        28\n",
      "          18       0.00      0.00      0.00        22\n",
      "          19       1.00      0.12      0.22        16\n",
      "          20       0.00      0.00      0.00         5\n",
      "          21       0.68      0.40      0.50        65\n",
      "          22       0.00      0.00      0.00         6\n",
      "          23       0.55      0.34      0.42        32\n",
      "          24       1.00      0.39      0.56        23\n",
      "          25       0.86      0.35      0.50        17\n",
      "          26       0.75      0.43      0.55        21\n",
      "          27       0.77      0.34      0.48        58\n",
      "          28       0.00      0.00      0.00         3\n",
      "          29       0.57      0.40      0.47        20\n",
      "          30       0.47      0.44      0.46        18\n",
      "          31       0.72      0.70      0.71        47\n",
      "          32       0.60      0.30      0.40        10\n",
      "          33       0.33      0.72      0.46        18\n",
      "          34       0.88      0.91      0.89        88\n",
      "          35       1.00      0.18      0.31        11\n",
      "          36       1.00      0.20      0.33        20\n",
      "          37       1.00      0.05      0.09        22\n",
      "          38       0.33      0.33      0.33        21\n",
      "          39       0.75      0.60      0.67         5\n",
      "          40       0.00      0.00      0.00         5\n",
      "          41       1.00      0.27      0.43        11\n",
      "          42       0.75      0.43      0.55        21\n",
      "          43       1.00      0.29      0.44         7\n",
      "          44       0.64      0.43      0.51        21\n",
      "          45       0.62      0.43      0.51        37\n",
      "          46       0.83      0.42      0.56        12\n",
      "          47       0.00      0.00      0.00         6\n",
      "          48       0.40      0.50      0.44        20\n",
      "          49       1.00      0.33      0.50         6\n",
      "          50       0.80      0.29      0.42        14\n",
      "          51       0.41      0.56      0.47        77\n",
      "          52       0.75      0.53      0.62        17\n",
      "          53       0.47      0.41      0.44        22\n",
      "          54       0.36      0.38      0.37        13\n",
      "          55       1.00      0.25      0.40         8\n",
      "          56       0.62      0.64      0.63       140\n",
      "          57       0.37      0.69      0.48        35\n",
      "          58       0.58      0.64      0.61        45\n",
      "          59       0.62      0.82      0.71        28\n",
      "          60       0.57      0.40      0.47        10\n",
      "          61       0.50      0.04      0.07        26\n",
      "          62       1.00      0.08      0.15        25\n",
      "          63       0.00      0.00      0.00         4\n",
      "          64       0.26      0.26      0.26        23\n",
      "          65       0.57      0.47      0.52        51\n",
      "          66       0.00      0.00      0.00         6\n",
      "          67       0.03      0.45      0.05        11\n",
      "          68       0.50      0.05      0.10        19\n",
      "          69       0.39      0.61      0.48        44\n",
      "          70       1.00      0.22      0.36        18\n",
      "          71       0.33      0.08      0.12        13\n",
      "          72       0.00      0.00      0.00         9\n",
      "          73       0.43      0.27      0.33        11\n",
      "          74       1.00      0.24      0.38        21\n",
      "          75       0.16      0.61      0.25        49\n",
      "          76       0.00      0.00      0.00         6\n",
      "          77       0.26      0.33      0.29        15\n",
      "          78       0.76      0.87      0.81        52\n",
      "          79       0.57      0.25      0.35        16\n",
      "          80       0.00      0.00      0.00        14\n",
      "          81       0.67      0.11      0.19        18\n",
      "          82       0.34      0.57      0.43        40\n",
      "          83       0.64      0.70      0.67        23\n",
      "          84       0.39      0.41      0.40        27\n",
      "          85       0.53      0.42      0.47        19\n",
      "          86       0.64      0.55      0.59        53\n",
      "          87       0.34      0.83      0.48        71\n",
      "          88       1.00      0.25      0.40         4\n",
      "          89       0.45      0.43      0.44        21\n",
      "          90       0.90      0.49      0.63        53\n",
      "          91       0.40      0.27      0.32        22\n",
      "          92       0.36      0.27      0.31        15\n",
      "          93       0.00      0.00      0.00         6\n",
      "          94       0.62      0.83      0.71        12\n",
      "          95       0.00      0.00      0.00         5\n",
      "          96       0.53      0.77      0.63        30\n",
      "          97       0.67      0.10      0.17        20\n",
      "          98       0.50      0.29      0.36         7\n",
      "          99       1.00      0.25      0.40         4\n",
      "         100       0.68      0.62      0.65        21\n",
      "         101       0.80      0.44      0.57         9\n",
      "         102       0.43      0.82      0.56        11\n",
      "         103       0.39      0.74      0.51        34\n",
      "         104       0.00      0.00      0.00         9\n",
      "         105       0.26      0.68      0.37        34\n",
      "         106       0.48      0.77      0.59        13\n",
      "         107       0.08      0.38      0.13        48\n",
      "         108       0.30      0.82      0.44        17\n",
      "         109       0.50      0.20      0.29        15\n",
      "         110       0.45      0.56      0.50        32\n",
      "         111       0.50      0.14      0.22         7\n",
      "         112       0.47      0.65      0.55        26\n",
      "         113       0.75      0.19      0.30        16\n",
      "         114       0.56      0.25      0.35        36\n",
      "         115       0.55      0.49      0.52        35\n",
      "         116       0.51      0.63      0.56        35\n",
      "         117       0.50      0.20      0.29         5\n",
      "         118       0.00      0.00      0.00        10\n",
      "         119       0.94      0.48      0.64        33\n",
      "         120       1.00      0.50      0.67         6\n",
      "         121       0.19      0.23      0.21        13\n",
      "         122       0.43      0.64      0.52        25\n",
      "         123       0.00      0.00      0.00         7\n",
      "         124       0.58      0.35      0.44        20\n",
      "         125       0.00      0.00      0.00         5\n",
      "         126       0.00      0.00      0.00         5\n",
      "         127       0.00      0.00      0.00         8\n",
      "         128       1.00      0.22      0.36         9\n",
      "         129       1.00      0.20      0.33        10\n",
      "         130       0.24      0.81      0.37        27\n",
      "         131       0.00      0.00      0.00         5\n",
      "         132       0.67      0.40      0.50        10\n",
      "         133       0.75      0.60      0.67         5\n",
      "         134       0.00      0.00      0.00         3\n",
      "         135       1.00      0.75      0.86         4\n",
      "         136       0.00      0.00      0.00        11\n",
      "         137       0.00      0.00      0.00         5\n",
      "         138       0.55      0.86      0.67        28\n",
      "         139       0.00      0.00      0.00         5\n",
      "         140       0.58      0.52      0.55        21\n",
      "         141       0.00      0.00      0.00         3\n",
      "         142       0.60      0.33      0.43         9\n",
      "         143       1.00      0.06      0.12        16\n",
      "         144       0.00      0.00      0.00         6\n",
      "         145       1.00      0.08      0.15        12\n",
      "         146       0.00      0.00      0.00         4\n",
      "         147       1.00      0.50      0.67         6\n",
      "         148       0.00      0.00      0.00         7\n",
      "         149       0.00      0.00      0.00         6\n",
      "         150       1.00      0.11      0.20         9\n",
      "         151       0.71      0.84      0.77        58\n",
      "         152       0.00      0.00      0.00         3\n",
      "         153       1.00      0.43      0.60         7\n",
      "         154       0.57      0.29      0.38        14\n",
      "         155       0.25      0.33      0.29        15\n",
      "         156       1.00      0.15      0.26        20\n",
      "         157       0.00      0.00      0.00         3\n",
      "         158       0.00      0.00      0.00         8\n",
      "         159       0.00      0.00      0.00         6\n",
      "         160       0.00      0.00      0.00         3\n",
      "         161       0.00      0.00      0.00         4\n",
      "         162       0.22      0.28      0.24        18\n",
      "         163       0.75      0.50      0.60        12\n",
      "         164       1.00      0.50      0.67         4\n",
      "         165       0.67      0.55      0.60        11\n",
      "         166       0.00      0.00      0.00         4\n",
      "         167       0.00      0.00      0.00         5\n",
      "         168       0.52      0.39      0.45        33\n",
      "         169       0.00      0.00      0.00         4\n",
      "         170       0.28      0.68      0.39        19\n",
      "         171       0.76      0.75      0.75       100\n",
      "         172       1.00      0.33      0.50         6\n",
      "         173       0.00      0.00      0.00         4\n",
      "         174       0.00      0.00      0.00         3\n",
      "         175       0.00      0.00      0.00         3\n",
      "         176       0.00      0.00      0.00         3\n",
      "         177       0.00      0.00      0.00         7\n",
      "         178       0.00      0.00      0.00         8\n",
      "         179       0.00      0.00      0.00         5\n",
      "         180       0.00      0.00      0.00         1\n",
      "         181       0.00      0.00      0.00         2\n",
      "         182       0.00      0.00      0.00         5\n",
      "\n",
      "    accuracy                           0.45      3744\n",
      "   macro avg       0.46      0.31      0.32      3744\n",
      "weighted avg       0.55      0.45      0.45      3744\n",
      "\n"
     ]
    },
    {
     "name": "stderr",
     "output_type": "stream",
     "text": [
      "C:\\Users\\nje\\Miniconda3\\envs\\MachineLearning\\lib\\site-packages\\sklearn\\metrics\\_classification.py:1308: UndefinedMetricWarning: Precision and F-score are ill-defined and being set to 0.0 in labels with no predicted samples. Use `zero_division` parameter to control this behavior.\n",
      "  _warn_prf(average, modifier, msg_start, len(result))\n",
      "C:\\Users\\nje\\Miniconda3\\envs\\MachineLearning\\lib\\site-packages\\sklearn\\metrics\\_classification.py:1308: UndefinedMetricWarning: Precision and F-score are ill-defined and being set to 0.0 in labels with no predicted samples. Use `zero_division` parameter to control this behavior.\n",
      "  _warn_prf(average, modifier, msg_start, len(result))\n",
      "C:\\Users\\nje\\Miniconda3\\envs\\MachineLearning\\lib\\site-packages\\sklearn\\metrics\\_classification.py:1308: UndefinedMetricWarning: Precision and F-score are ill-defined and being set to 0.0 in labels with no predicted samples. Use `zero_division` parameter to control this behavior.\n",
      "  _warn_prf(average, modifier, msg_start, len(result))\n"
     ]
    }
   ],
   "source": [
    "print(metrics.classification_report(df_all['class'], df_all['pred']))"
   ]
  },
  {
   "cell_type": "code",
   "execution_count": null,
   "id": "73e11793-5fc4-4ed3-9975-0ac95367e0cc",
   "metadata": {},
   "outputs": [],
   "source": []
  }
 ],
 "metadata": {
  "kernelspec": {
   "display_name": "Python 3 (ipykernel)",
   "language": "python",
   "name": "python3"
  },
  "language_info": {
   "codemirror_mode": {
    "name": "ipython",
    "version": 3
   },
   "file_extension": ".py",
   "mimetype": "text/x-python",
   "name": "python",
   "nbconvert_exporter": "python",
   "pygments_lexer": "ipython3",
   "version": "3.9.7"
  }
 },
 "nbformat": 4,
 "nbformat_minor": 5
}
