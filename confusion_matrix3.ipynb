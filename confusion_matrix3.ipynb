{
 "cells": [
  {
   "cell_type": "code",
   "execution_count": 1,
   "id": "305b98f2-b178-449c-b0e4-76f330e251a0",
   "metadata": {},
   "outputs": [],
   "source": [
    "import os\n",
    "from glob import glob\n",
    "\n",
    "import pandas as pd\n",
    "import numpy as np\n",
    "import matplotlib.pyplot as plt"
   ]
  },
  {
   "cell_type": "code",
   "execution_count": 2,
   "id": "a24ac4b1-f6bd-4f36-8fef-98d78e941dfb",
   "metadata": {},
   "outputs": [],
   "source": [
    "df = pd.read_csv('data_with_labels.csv')"
   ]
  },
  {
   "cell_type": "code",
   "execution_count": 3,
   "id": "c52b1215-58e2-4a3f-9e7e-6b90530183f8",
   "metadata": {},
   "outputs": [
    {
     "data": {
      "text/html": [
       "<div>\n",
       "<style scoped>\n",
       "    .dataframe tbody tr th:only-of-type {\n",
       "        vertical-align: middle;\n",
       "    }\n",
       "\n",
       "    .dataframe tbody tr th {\n",
       "        vertical-align: top;\n",
       "    }\n",
       "\n",
       "    .dataframe thead th {\n",
       "        text-align: right;\n",
       "    }\n",
       "</style>\n",
       "<table border=\"1\" class=\"dataframe\">\n",
       "  <thead>\n",
       "    <tr style=\"text-align: right;\">\n",
       "      <th></th>\n",
       "      <th>image</th>\n",
       "      <th>class</th>\n",
       "    </tr>\n",
       "  </thead>\n",
       "  <tbody>\n",
       "    <tr>\n",
       "      <th>0</th>\n",
       "      <td>/work1/niejep/SummerSchoolChallenge2022/fungii...</td>\n",
       "      <td>0</td>\n",
       "    </tr>\n",
       "    <tr>\n",
       "      <th>1</th>\n",
       "      <td>/work1/niejep/SummerSchoolChallenge2022/fungii...</td>\n",
       "      <td>0</td>\n",
       "    </tr>\n",
       "    <tr>\n",
       "      <th>2</th>\n",
       "      <td>/work1/niejep/SummerSchoolChallenge2022/fungii...</td>\n",
       "      <td>1</td>\n",
       "    </tr>\n",
       "    <tr>\n",
       "      <th>3</th>\n",
       "      <td>/work1/niejep/SummerSchoolChallenge2022/fungii...</td>\n",
       "      <td>2</td>\n",
       "    </tr>\n",
       "    <tr>\n",
       "      <th>4</th>\n",
       "      <td>/work1/niejep/SummerSchoolChallenge2022/fungii...</td>\n",
       "      <td>2</td>\n",
       "    </tr>\n",
       "    <tr>\n",
       "      <th>...</th>\n",
       "      <td>...</td>\n",
       "      <td>...</td>\n",
       "    </tr>\n",
       "    <tr>\n",
       "      <th>5400</th>\n",
       "      <td>/work1/niejep/SummerSchoolChallenge2022/fungii...</td>\n",
       "      <td>140</td>\n",
       "    </tr>\n",
       "    <tr>\n",
       "      <th>5401</th>\n",
       "      <td>/work1/niejep/SummerSchoolChallenge2022/fungii...</td>\n",
       "      <td>23</td>\n",
       "    </tr>\n",
       "    <tr>\n",
       "      <th>5402</th>\n",
       "      <td>/work1/niejep/SummerSchoolChallenge2022/fungii...</td>\n",
       "      <td>23</td>\n",
       "    </tr>\n",
       "    <tr>\n",
       "      <th>5403</th>\n",
       "      <td>/work1/niejep/SummerSchoolChallenge2022/fungii...</td>\n",
       "      <td>75</td>\n",
       "    </tr>\n",
       "    <tr>\n",
       "      <th>5404</th>\n",
       "      <td>/work1/niejep/SummerSchoolChallenge2022/fungii...</td>\n",
       "      <td>23</td>\n",
       "    </tr>\n",
       "  </tbody>\n",
       "</table>\n",
       "<p>5405 rows × 2 columns</p>\n",
       "</div>"
      ],
      "text/plain": [
       "                                                  image  class\n",
       "0     /work1/niejep/SummerSchoolChallenge2022/fungii...      0\n",
       "1     /work1/niejep/SummerSchoolChallenge2022/fungii...      0\n",
       "2     /work1/niejep/SummerSchoolChallenge2022/fungii...      1\n",
       "3     /work1/niejep/SummerSchoolChallenge2022/fungii...      2\n",
       "4     /work1/niejep/SummerSchoolChallenge2022/fungii...      2\n",
       "...                                                 ...    ...\n",
       "5400  /work1/niejep/SummerSchoolChallenge2022/fungii...    140\n",
       "5401  /work1/niejep/SummerSchoolChallenge2022/fungii...     23\n",
       "5402  /work1/niejep/SummerSchoolChallenge2022/fungii...     23\n",
       "5403  /work1/niejep/SummerSchoolChallenge2022/fungii...     75\n",
       "5404  /work1/niejep/SummerSchoolChallenge2022/fungii...     23\n",
       "\n",
       "[5405 rows x 2 columns]"
      ]
     },
     "execution_count": 3,
     "metadata": {},
     "output_type": "execute_result"
    }
   ],
   "source": [
    "df"
   ]
  },
  {
   "cell_type": "code",
   "execution_count": 4,
   "id": "934ec30a-db85-408e-9cec-3c4f19733612",
   "metadata": {},
   "outputs": [],
   "source": [
    "g = df.groupby('class')"
   ]
  },
  {
   "cell_type": "code",
   "execution_count": 5,
   "id": "656dd1bc-6e0a-4ca9-b5bd-acfdf7690fed",
   "metadata": {},
   "outputs": [
    {
     "data": {
      "image/png": "[encoded data removed]",
      "text/plain": [
       "<Figure size 432x288 with 1 Axes>"
      ]
     },
     "metadata": {
      "needs_background": "light"
     },
     "output_type": "display_data"
    }
   ],
   "source": [
    "plt.hist(df['class'], bins=df['class'].max())\n",
    "plt.show()"
   ]
  },
  {
   "cell_type": "code",
   "execution_count": 6,
   "id": "823ffb08-4a09-4cae-b4fe-dd443196868a",
   "metadata": {},
   "outputs": [],
   "source": [
    "c = df['class'].to_numpy()"
   ]
  },
  {
   "cell_type": "code",
   "execution_count": 7,
   "id": "2288da46-6718-4b36-9efe-21bcd2230b48",
   "metadata": {},
   "outputs": [],
   "source": [
    "c_bins = np.bincount(c)"
   ]
  },
  {
   "cell_type": "code",
   "execution_count": 8,
   "id": "54616dbe-2a08-4c14-977b-81adcf532d6b",
   "metadata": {},
   "outputs": [],
   "source": [
    "sort = np.argsort(c_bins)[::-1]"
   ]
  },
  {
   "cell_type": "code",
   "execution_count": 9,
   "id": "67f4acb8-c2c4-4c56-aeb9-3886cec0aa49",
   "metadata": {},
   "outputs": [],
   "source": [
    "c_sorted = c_bins[sort]"
   ]
  },
  {
   "cell_type": "code",
   "execution_count": 10,
   "id": "1952bdc3-f16e-480c-9dca-9e566f7bb5fe",
   "metadata": {},
   "outputs": [
    {
     "data": {
      "image/png": "[encoded data removed]",
      "text/plain": [
       "<Figure size 432x288 with 1 Axes>"
      ]
     },
     "metadata": {
      "needs_background": "light"
     },
     "output_type": "display_data"
    }
   ],
   "source": [
    "plt.bar(range(len(c_sorted)), c_sorted)\n",
    "plt.show()"
   ]
  },
  {
   "cell_type": "code",
   "execution_count": 11,
   "id": "1395769b-7424-4b78-85eb-60c604f4cb64",
   "metadata": {},
   "outputs": [
    {
     "data": {
      "image/png": "[encoded data removed]",
      "text/plain": [
       "<Figure size 432x288 with 1 Axes>"
      ]
     },
     "metadata": {
      "needs_background": "light"
     },
     "output_type": "display_data"
    }
   ],
   "source": [
    "plt.bar(range(len(c_sorted)), np.cumsum(c_sorted) / len(df))\n",
    "plt.axhline(0.5)\n",
    "plt.axhline(0.6)\n",
    "plt.show()"
   ]
  },
  {
   "cell_type": "code",
   "execution_count": 12,
   "id": "e921eba8-3b4e-4201-abe0-2bbc4a8dfb09",
   "metadata": {},
   "outputs": [
    {
     "data": {
      "text/plain": [
       "array([38,  6, 56, 11, 57, 58, 12, 18,  0, 24, 84, 11, 44,  5, 52, 49,  4,\n",
       "       14, 55, 42, 23, 39,  2, 24,  7, 14, 21, 34,  1,  8, 65, 40, 56, 29,\n",
       "        9, 55, 56, 69, 46, 66, 42, 43, 24,  1,  1, 26,  1, 53, 25, 17, 19,\n",
       "        1, 54, 13, 41, 64,  2, 53, 47,  3, 34,  5, 14, 71, 19, 60, 21, 10,\n",
       "       27, 64, 36,  8,  2, 30, 36, 20, 15, 56, 15, 72, 10, 73,  2, 47,  0,\n",
       "       34, 56,  3, 55, 48, 16, 88, 44, 32, 69, 61, 23, 57, 48, 51, 10, 33,\n",
       "       63, 81, 64, 55, 14, 45, 74, 10, 64, 86, 77, 89, 68, 22, 67, 81, 37,\n",
       "       75,  9, 56, 59, 59, 85, 14, 21,  5, 69, 79, 48, 14, 27, 62, 21, 90,\n",
       "       41,  9, 13, 86, 14, 16, 42,  6, 27, 21, 80, 67, 50, 15,  8, 11, 31,\n",
       "       35, 83, 31, 29, 34, 11, 16, 43, 28, 61, 87, 13, 31, 11, 76, 82, 70,\n",
       "       86,  2, 19, 75, 14, 18, 11,  0, 91, 19, 78, 92, 51], dtype=int64)"
      ]
     },
     "execution_count": 12,
     "metadata": {},
     "output_type": "execute_result"
    }
   ],
   "source": [
    "c[sort]"
   ]
  },
  {
   "cell_type": "code",
   "execution_count": 13,
   "id": "84217d0d-280e-42e9-903a-e57d49591f5a",
   "metadata": {},
   "outputs": [
    {
     "data": {
      "text/plain": [
       "array([202, 128, 121, 113, 112, 111, 109, 108, 101,  92,  91,  82,  74,\n",
       "        74,  68,  68,  66,  63,  61,  56,  56,  55,  54,  53,  52,  51,\n",
       "        51,  51,  49,  48,  48,  47,  47,  47,  47,  44,  44,  43,  43,\n",
       "        42,  40,  39,  38,  37,  37,  37,  36,  35,  35,  35,  35,  35,\n",
       "        35,  34,  33,  33,  33,  32,  31,  31,  31,  31,  30,  30,  30,\n",
       "        30,  29,  28,  28,  28,  28,  28,  27,  27,  27,  27,  27,  27,\n",
       "        27,  27,  27,  26,  26,  25,  25,  24,  24,  24,  24,  23,  23,\n",
       "        23,  23,  23,  22,  21,  21,  20,  20,  20,  19,  19,  19,  17,\n",
       "        17,  17,  17,  17,  16,  16,  15,  15,  14,  14,  14,  14,  14,\n",
       "        13,  13,  13,  12,  12,  12,  12,  12,  11,  11,  11,  11,  11,\n",
       "        10,  10,  10,  10,  10,  10,  10,   9,   9,   9,   9,   9,   9,\n",
       "         9,   9,   9,   8,   8,   8,   8,   8,   8,   8,   8,   8,   8,\n",
       "         7,   7,   7,   7,   7,   7,   7,   7,   7,   6,   6,   6,   6,\n",
       "         6,   5,   5,   5,   5,   5,   4,   4,   4,   3,   3,   3,   2,\n",
       "         1], dtype=int64)"
      ]
     },
     "execution_count": 13,
     "metadata": {},
     "output_type": "execute_result"
    }
   ],
   "source": [
    "c_sorted"
   ]
  },
  {
   "cell_type": "code",
   "execution_count": 14,
   "id": "5298b82e-9ce2-4812-af80-09aae1b5bf6a",
   "metadata": {},
   "outputs": [],
   "source": [
    "data_sort = np.load('data_sort_patmjen.npy')"
   ]
  },
  {
   "cell_type": "code",
   "execution_count": 15,
   "id": "50dc70d9-bd0d-46a6-9851-42cd43c4b358",
   "metadata": {},
   "outputs": [
    {
     "data": {
      "text/html": [
       "<div>\n",
       "<style scoped>\n",
       "    .dataframe tbody tr th:only-of-type {\n",
       "        vertical-align: middle;\n",
       "    }\n",
       "\n",
       "    .dataframe tbody tr th {\n",
       "        vertical-align: top;\n",
       "    }\n",
       "\n",
       "    .dataframe thead th {\n",
       "        text-align: right;\n",
       "    }\n",
       "</style>\n",
       "<table border=\"1\" class=\"dataframe\">\n",
       "  <thead>\n",
       "    <tr style=\"text-align: right;\">\n",
       "      <th></th>\n",
       "      <th>image</th>\n",
       "      <th>class</th>\n",
       "    </tr>\n",
       "  </thead>\n",
       "  <tbody>\n",
       "    <tr>\n",
       "      <th>0</th>\n",
       "      <td>2237852381-222754.JPG</td>\n",
       "      <td>0</td>\n",
       "    </tr>\n",
       "    <tr>\n",
       "      <th>1</th>\n",
       "      <td>2237852388-108.JPG</td>\n",
       "      <td>0</td>\n",
       "    </tr>\n",
       "    <tr>\n",
       "      <th>2</th>\n",
       "      <td>2237852964-74877.JPG</td>\n",
       "      <td>1</td>\n",
       "    </tr>\n",
       "    <tr>\n",
       "      <th>3</th>\n",
       "      <td>2237853192-298146.JPG</td>\n",
       "      <td>2</td>\n",
       "    </tr>\n",
       "    <tr>\n",
       "      <th>4</th>\n",
       "      <td>2237853950-148876.JPG</td>\n",
       "      <td>2</td>\n",
       "    </tr>\n",
       "    <tr>\n",
       "      <th>...</th>\n",
       "      <td>...</td>\n",
       "      <td>...</td>\n",
       "    </tr>\n",
       "    <tr>\n",
       "      <th>5400</th>\n",
       "      <td>2238592737-337201.JPG</td>\n",
       "      <td>140</td>\n",
       "    </tr>\n",
       "    <tr>\n",
       "      <th>5401</th>\n",
       "      <td>2251781174-114683.JPG</td>\n",
       "      <td>23</td>\n",
       "    </tr>\n",
       "    <tr>\n",
       "      <th>5402</th>\n",
       "      <td>2265771997-338115.JPG</td>\n",
       "      <td>23</td>\n",
       "    </tr>\n",
       "    <tr>\n",
       "      <th>5403</th>\n",
       "      <td>2265772114-114838.JPG</td>\n",
       "      <td>75</td>\n",
       "    </tr>\n",
       "    <tr>\n",
       "      <th>5404</th>\n",
       "      <td>2269197570-188935.JPG</td>\n",
       "      <td>23</td>\n",
       "    </tr>\n",
       "  </tbody>\n",
       "</table>\n",
       "<p>5405 rows × 2 columns</p>\n",
       "</div>"
      ],
      "text/plain": [
       "                      image  class\n",
       "0     2237852381-222754.JPG      0\n",
       "1        2237852388-108.JPG      0\n",
       "2      2237852964-74877.JPG      1\n",
       "3     2237853192-298146.JPG      2\n",
       "4     2237853950-148876.JPG      2\n",
       "...                     ...    ...\n",
       "5400  2238592737-337201.JPG    140\n",
       "5401  2251781174-114683.JPG     23\n",
       "5402  2265771997-338115.JPG     23\n",
       "5403  2265772114-114838.JPG     75\n",
       "5404  2269197570-188935.JPG     23\n",
       "\n",
       "[5405 rows x 2 columns]"
      ]
     },
     "execution_count": 15,
     "metadata": {},
     "output_type": "execute_result"
    }
   ],
   "source": [
    "# df = df.set_index('image')\n",
    "df['image'] = df['image'].str.split('/').str[-1]\n",
    "df"
   ]
  },
  {
   "cell_type": "code",
   "execution_count": 16,
   "id": "1348990c-c479-4655-927e-4e8e6caf8ba9",
   "metadata": {},
   "outputs": [],
   "source": [
    "df_preds = pd.DataFrame({'image': data_sort['im_names'], 'pred': data_sort['pred_labels']})\n",
    "df_preds['image'] = df_preds['image'].str.replace('/data/AIDatasets/fungi/DF20M/', '')"
   ]
  },
  {
   "cell_type": "code",
   "execution_count": 17,
   "id": "891c5438-4244-4632-87ed-7684b3bcdff8",
   "metadata": {},
   "outputs": [],
   "source": [
    "g = df_preds.groupby('pred')"
   ]
  },
  {
   "cell_type": "code",
   "execution_count": 18,
   "id": "1de0cdde-3a30-4373-a06b-e5d749b94f83",
   "metadata": {},
   "outputs": [
    {
     "data": {
      "text/html": [
       "<div>\n",
       "<style scoped>\n",
       "    .dataframe tbody tr th:only-of-type {\n",
       "        vertical-align: middle;\n",
       "    }\n",
       "\n",
       "    .dataframe tbody tr th {\n",
       "        vertical-align: top;\n",
       "    }\n",
       "\n",
       "    .dataframe thead tr th {\n",
       "        text-align: left;\n",
       "    }\n",
       "\n",
       "    .dataframe thead tr:last-of-type th {\n",
       "        text-align: right;\n",
       "    }\n",
       "</style>\n",
       "<table border=\"1\" class=\"dataframe\">\n",
       "  <thead>\n",
       "    <tr>\n",
       "      <th></th>\n",
       "      <th colspan=\"4\" halign=\"left\">image</th>\n",
       "    </tr>\n",
       "    <tr>\n",
       "      <th></th>\n",
       "      <th>count</th>\n",
       "      <th>unique</th>\n",
       "      <th>top</th>\n",
       "      <th>freq</th>\n",
       "    </tr>\n",
       "    <tr>\n",
       "      <th>pred</th>\n",
       "      <th></th>\n",
       "      <th></th>\n",
       "      <th></th>\n",
       "      <th></th>\n",
       "    </tr>\n",
       "  </thead>\n",
       "  <tbody>\n",
       "    <tr>\n",
       "      <th>0</th>\n",
       "      <td>422</td>\n",
       "      <td>422</td>\n",
       "      <td>2237852325-148523.JPG</td>\n",
       "      <td>1</td>\n",
       "    </tr>\n",
       "    <tr>\n",
       "      <th>1</th>\n",
       "      <td>577</td>\n",
       "      <td>577</td>\n",
       "      <td>2237852204-74704.JPG</td>\n",
       "      <td>1</td>\n",
       "    </tr>\n",
       "    <tr>\n",
       "      <th>2</th>\n",
       "      <td>234</td>\n",
       "      <td>234</td>\n",
       "      <td>2237852116-222680.JPG</td>\n",
       "      <td>1</td>\n",
       "    </tr>\n",
       "    <tr>\n",
       "      <th>3</th>\n",
       "      <td>27</td>\n",
       "      <td>27</td>\n",
       "      <td>2237852132-297902.JPG</td>\n",
       "      <td>1</td>\n",
       "    </tr>\n",
       "    <tr>\n",
       "      <th>4</th>\n",
       "      <td>34</td>\n",
       "      <td>34</td>\n",
       "      <td>2237870260-150860.JPG</td>\n",
       "      <td>1</td>\n",
       "    </tr>\n",
       "    <tr>\n",
       "      <th>...</th>\n",
       "      <td>...</td>\n",
       "      <td>...</td>\n",
       "      <td>...</td>\n",
       "      <td>...</td>\n",
       "    </tr>\n",
       "    <tr>\n",
       "      <th>177</th>\n",
       "      <td>17</td>\n",
       "      <td>17</td>\n",
       "      <td>2237903062-300369.JPG</td>\n",
       "      <td>1</td>\n",
       "    </tr>\n",
       "    <tr>\n",
       "      <th>178</th>\n",
       "      <td>17</td>\n",
       "      <td>17</td>\n",
       "      <td>2237919198-3095.JPG</td>\n",
       "      <td>1</td>\n",
       "    </tr>\n",
       "    <tr>\n",
       "      <th>179</th>\n",
       "      <td>15</td>\n",
       "      <td>15</td>\n",
       "      <td>2238085019-80208.JPG</td>\n",
       "      <td>1</td>\n",
       "    </tr>\n",
       "    <tr>\n",
       "      <th>181</th>\n",
       "      <td>8</td>\n",
       "      <td>8</td>\n",
       "      <td>2238143890-155516.JPG</td>\n",
       "      <td>1</td>\n",
       "    </tr>\n",
       "    <tr>\n",
       "      <th>182</th>\n",
       "      <td>10</td>\n",
       "      <td>10</td>\n",
       "      <td>2238148417-305310.JPG</td>\n",
       "      <td>1</td>\n",
       "    </tr>\n",
       "  </tbody>\n",
       "</table>\n",
       "<p>179 rows × 4 columns</p>\n",
       "</div>"
      ],
      "text/plain": [
       "     image                                   \n",
       "     count unique                    top freq\n",
       "pred                                         \n",
       "0      422    422  2237852325-148523.JPG    1\n",
       "1      577    577   2237852204-74704.JPG    1\n",
       "2      234    234  2237852116-222680.JPG    1\n",
       "3       27     27  2237852132-297902.JPG    1\n",
       "4       34     34  2237870260-150860.JPG    1\n",
       "...    ...    ...                    ...  ...\n",
       "177     17     17  2237903062-300369.JPG    1\n",
       "178     17     17    2237919198-3095.JPG    1\n",
       "179     15     15   2238085019-80208.JPG    1\n",
       "181      8      8  2238143890-155516.JPG    1\n",
       "182     10     10  2238148417-305310.JPG    1\n",
       "\n",
       "[179 rows x 4 columns]"
      ]
     },
     "execution_count": 18,
     "metadata": {},
     "output_type": "execute_result"
    }
   ],
   "source": [
    "g.describe()"
   ]
  },
  {
   "cell_type": "code",
   "execution_count": 19,
   "id": "176907ba-b9c2-4815-8963-19eb8d6c2abb",
   "metadata": {},
   "outputs": [],
   "source": [
    "pred_count = g.count()"
   ]
  },
  {
   "cell_type": "code",
   "execution_count": 20,
   "id": "0f3c56d1-2d1b-4e0c-91ab-40285cbcd4d3",
   "metadata": {},
   "outputs": [
    {
     "data": {
      "text/html": [
       "<div>\n",
       "<style scoped>\n",
       "    .dataframe tbody tr th:only-of-type {\n",
       "        vertical-align: middle;\n",
       "    }\n",
       "\n",
       "    .dataframe tbody tr th {\n",
       "        vertical-align: top;\n",
       "    }\n",
       "\n",
       "    .dataframe thead th {\n",
       "        text-align: right;\n",
       "    }\n",
       "</style>\n",
       "<table border=\"1\" class=\"dataframe\">\n",
       "  <thead>\n",
       "    <tr style=\"text-align: right;\">\n",
       "      <th></th>\n",
       "      <th>image</th>\n",
       "    </tr>\n",
       "    <tr>\n",
       "      <th>pred</th>\n",
       "      <th></th>\n",
       "    </tr>\n",
       "  </thead>\n",
       "  <tbody>\n",
       "    <tr>\n",
       "      <th>67</th>\n",
       "      <td>1688</td>\n",
       "    </tr>\n",
       "    <tr>\n",
       "      <th>107</th>\n",
       "      <td>1623</td>\n",
       "    </tr>\n",
       "    <tr>\n",
       "      <th>171</th>\n",
       "      <td>1069</td>\n",
       "    </tr>\n",
       "    <tr>\n",
       "      <th>34</th>\n",
       "      <td>1015</td>\n",
       "    </tr>\n",
       "    <tr>\n",
       "      <th>56</th>\n",
       "      <td>1015</td>\n",
       "    </tr>\n",
       "    <tr>\n",
       "      <th>116</th>\n",
       "      <td>937</td>\n",
       "    </tr>\n",
       "    <tr>\n",
       "      <th>69</th>\n",
       "      <td>934</td>\n",
       "    </tr>\n",
       "    <tr>\n",
       "      <th>78</th>\n",
       "      <td>753</td>\n",
       "    </tr>\n",
       "    <tr>\n",
       "      <th>65</th>\n",
       "      <td>744</td>\n",
       "    </tr>\n",
       "    <tr>\n",
       "      <th>130</th>\n",
       "      <td>730</td>\n",
       "    </tr>\n",
       "  </tbody>\n",
       "</table>\n",
       "</div>"
      ],
      "text/plain": [
       "      image\n",
       "pred       \n",
       "67     1688\n",
       "107    1623\n",
       "171    1069\n",
       "34     1015\n",
       "56     1015\n",
       "116     937\n",
       "69      934\n",
       "78      753\n",
       "65      744\n",
       "130     730"
      ]
     },
     "execution_count": 20,
     "metadata": {},
     "output_type": "execute_result"
    }
   ],
   "source": [
    "pred_counts = pred_count.sort_values('image', ascending=False)\n",
    "pred_counts.head(10)"
   ]
  },
  {
   "cell_type": "code",
   "execution_count": 21,
   "id": "37bfd6d9-94d5-40a5-bed9-bb5a26a8727a",
   "metadata": {},
   "outputs": [
    {
     "data": {
      "text/html": [
       "<div>\n",
       "<style scoped>\n",
       "    .dataframe tbody tr th:only-of-type {\n",
       "        vertical-align: middle;\n",
       "    }\n",
       "\n",
       "    .dataframe tbody tr th {\n",
       "        vertical-align: top;\n",
       "    }\n",
       "\n",
       "    .dataframe thead th {\n",
       "        text-align: right;\n",
       "    }\n",
       "</style>\n",
       "<table border=\"1\" class=\"dataframe\">\n",
       "  <thead>\n",
       "    <tr style=\"text-align: right;\">\n",
       "      <th></th>\n",
       "      <th>image</th>\n",
       "    </tr>\n",
       "    <tr>\n",
       "      <th>class</th>\n",
       "      <th></th>\n",
       "    </tr>\n",
       "  </thead>\n",
       "  <tbody>\n",
       "    <tr>\n",
       "      <th>56</th>\n",
       "      <td>202</td>\n",
       "    </tr>\n",
       "    <tr>\n",
       "      <th>15</th>\n",
       "      <td>128</td>\n",
       "    </tr>\n",
       "    <tr>\n",
       "      <th>171</th>\n",
       "      <td>121</td>\n",
       "    </tr>\n",
       "    <tr>\n",
       "      <th>107</th>\n",
       "      <td>113</td>\n",
       "    </tr>\n",
       "    <tr>\n",
       "      <th>86</th>\n",
       "      <td>112</td>\n",
       "    </tr>\n",
       "    <tr>\n",
       "      <th>87</th>\n",
       "      <td>111</td>\n",
       "    </tr>\n",
       "    <tr>\n",
       "      <th>21</th>\n",
       "      <td>109</td>\n",
       "    </tr>\n",
       "    <tr>\n",
       "      <th>27</th>\n",
       "      <td>108</td>\n",
       "    </tr>\n",
       "    <tr>\n",
       "      <th>1</th>\n",
       "      <td>101</td>\n",
       "    </tr>\n",
       "    <tr>\n",
       "      <th>34</th>\n",
       "      <td>92</td>\n",
       "    </tr>\n",
       "  </tbody>\n",
       "</table>\n",
       "</div>"
      ],
      "text/plain": [
       "       image\n",
       "class       \n",
       "56       202\n",
       "15       128\n",
       "171      121\n",
       "107      113\n",
       "86       112\n",
       "87       111\n",
       "21       109\n",
       "27       108\n",
       "1        101\n",
       "34        92"
      ]
     },
     "execution_count": 21,
     "metadata": {},
     "output_type": "execute_result"
    }
   ],
   "source": [
    "g_class = df.groupby('class')\n",
    "class_count = g_class.count()\n",
    "class_counts = class_count.sort_values('image', ascending=False)\n",
    "class_counts.head(10)"
   ]
  },
  {
   "cell_type": "code",
   "execution_count": 22,
   "id": "549a245a-a28a-4a2b-bff0-6d7faea1c385",
   "metadata": {},
   "outputs": [
    {
     "data": {
      "text/html": [
       "<div>\n",
       "<style scoped>\n",
       "    .dataframe tbody tr th:only-of-type {\n",
       "        vertical-align: middle;\n",
       "    }\n",
       "\n",
       "    .dataframe tbody tr th {\n",
       "        vertical-align: top;\n",
       "    }\n",
       "\n",
       "    .dataframe thead th {\n",
       "        text-align: right;\n",
       "    }\n",
       "</style>\n",
       "<table border=\"1\" class=\"dataframe\">\n",
       "  <thead>\n",
       "    <tr style=\"text-align: right;\">\n",
       "      <th></th>\n",
       "      <th>image</th>\n",
       "    </tr>\n",
       "  </thead>\n",
       "  <tbody>\n",
       "    <tr>\n",
       "      <th>67</th>\n",
       "      <td>99.294118</td>\n",
       "    </tr>\n",
       "    <tr>\n",
       "      <th>155</th>\n",
       "      <td>41.411765</td>\n",
       "    </tr>\n",
       "    <tr>\n",
       "      <th>130</th>\n",
       "      <td>24.333333</td>\n",
       "    </tr>\n",
       "    <tr>\n",
       "      <th>116</th>\n",
       "      <td>22.309524</td>\n",
       "    </tr>\n",
       "    <tr>\n",
       "      <th>162</th>\n",
       "      <td>20.565217</td>\n",
       "    </tr>\n",
       "    <tr>\n",
       "      <th>150</th>\n",
       "      <td>19.545455</td>\n",
       "    </tr>\n",
       "    <tr>\n",
       "      <th>170</th>\n",
       "      <td>17.863636</td>\n",
       "    </tr>\n",
       "    <tr>\n",
       "      <th>94</th>\n",
       "      <td>17.583333</td>\n",
       "    </tr>\n",
       "    <tr>\n",
       "      <th>33</th>\n",
       "      <td>17.095238</td>\n",
       "    </tr>\n",
       "    <tr>\n",
       "      <th>122</th>\n",
       "      <td>16.925926</td>\n",
       "    </tr>\n",
       "  </tbody>\n",
       "</table>\n",
       "</div>"
      ],
      "text/plain": [
       "         image\n",
       "67   99.294118\n",
       "155  41.411765\n",
       "130  24.333333\n",
       "116  22.309524\n",
       "162  20.565217\n",
       "150  19.545455\n",
       "170  17.863636\n",
       "94   17.583333\n",
       "33   17.095238\n",
       "122  16.925926"
      ]
     },
     "execution_count": 22,
     "metadata": {},
     "output_type": "execute_result"
    }
   ],
   "source": [
    "(pred_count / class_count).sort_values('image', ascending=False).head(10)"
   ]
  },
  {
   "cell_type": "code",
   "execution_count": 23,
   "id": "fe569390-5847-4769-9a19-7f7ade0a08e6",
   "metadata": {},
   "outputs": [
    {
     "data": {
      "text/plain": [
       "<AxesSubplot:xlabel='pred'>"
      ]
     },
     "execution_count": 23,
     "metadata": {},
     "output_type": "execute_result"
    },
    {
     "data": {
      "image/png": "[encoded data removed]",
      "text/plain": [
       "<Figure size 432x288 with 1 Axes>"
      ]
     },
     "metadata": {
      "needs_background": "light"
     },
     "output_type": "display_data"
    }
   ],
   "source": [
    "pred_counts.plot.bar()"
   ]
  },
  {
   "cell_type": "code",
   "execution_count": 24,
   "id": "9d91e81c-5383-4241-99b6-cf7cf1f1725d",
   "metadata": {},
   "outputs": [
    {
     "data": {
      "text/html": [
       "<div>\n",
       "<style scoped>\n",
       "    .dataframe tbody tr th:only-of-type {\n",
       "        vertical-align: middle;\n",
       "    }\n",
       "\n",
       "    .dataframe tbody tr th {\n",
       "        vertical-align: top;\n",
       "    }\n",
       "\n",
       "    .dataframe thead th {\n",
       "        text-align: right;\n",
       "    }\n",
       "</style>\n",
       "<table border=\"1\" class=\"dataframe\">\n",
       "  <thead>\n",
       "    <tr style=\"text-align: right;\">\n",
       "      <th></th>\n",
       "      <th>image</th>\n",
       "      <th>class</th>\n",
       "      <th>pred</th>\n",
       "    </tr>\n",
       "  </thead>\n",
       "  <tbody>\n",
       "    <tr>\n",
       "      <th>0</th>\n",
       "      <td>2237852381-222754.JPG</td>\n",
       "      <td>0</td>\n",
       "      <td>163</td>\n",
       "    </tr>\n",
       "    <tr>\n",
       "      <th>1</th>\n",
       "      <td>2237852388-108.JPG</td>\n",
       "      <td>0</td>\n",
       "      <td>53</td>\n",
       "    </tr>\n",
       "    <tr>\n",
       "      <th>2</th>\n",
       "      <td>2237852964-74877.JPG</td>\n",
       "      <td>1</td>\n",
       "      <td>1</td>\n",
       "    </tr>\n",
       "    <tr>\n",
       "      <th>3</th>\n",
       "      <td>2237853192-298146.JPG</td>\n",
       "      <td>2</td>\n",
       "      <td>2</td>\n",
       "    </tr>\n",
       "    <tr>\n",
       "      <th>4</th>\n",
       "      <td>2237853950-148876.JPG</td>\n",
       "      <td>2</td>\n",
       "      <td>96</td>\n",
       "    </tr>\n",
       "    <tr>\n",
       "      <th>...</th>\n",
       "      <td>...</td>\n",
       "      <td>...</td>\n",
       "      <td>...</td>\n",
       "    </tr>\n",
       "    <tr>\n",
       "      <th>5400</th>\n",
       "      <td>2265771997-338115.JPG</td>\n",
       "      <td>23</td>\n",
       "      <td>67</td>\n",
       "    </tr>\n",
       "    <tr>\n",
       "      <th>5401</th>\n",
       "      <td>2265772114-114838.JPG</td>\n",
       "      <td>75</td>\n",
       "      <td>67</td>\n",
       "    </tr>\n",
       "    <tr>\n",
       "      <th>5402</th>\n",
       "      <td>2265772114-114838.JPG</td>\n",
       "      <td>75</td>\n",
       "      <td>67</td>\n",
       "    </tr>\n",
       "    <tr>\n",
       "      <th>5403</th>\n",
       "      <td>2269197570-188935.JPG</td>\n",
       "      <td>23</td>\n",
       "      <td>67</td>\n",
       "    </tr>\n",
       "    <tr>\n",
       "      <th>5404</th>\n",
       "      <td>2269197570-188935.JPG</td>\n",
       "      <td>23</td>\n",
       "      <td>67</td>\n",
       "    </tr>\n",
       "  </tbody>\n",
       "</table>\n",
       "<p>5405 rows × 3 columns</p>\n",
       "</div>"
      ],
      "text/plain": [
       "                      image  class  pred\n",
       "0     2237852381-222754.JPG      0   163\n",
       "1        2237852388-108.JPG      0    53\n",
       "2      2237852964-74877.JPG      1     1\n",
       "3     2237853192-298146.JPG      2     2\n",
       "4     2237853950-148876.JPG      2    96\n",
       "...                     ...    ...   ...\n",
       "5400  2265771997-338115.JPG     23    67\n",
       "5401  2265772114-114838.JPG     75    67\n",
       "5402  2265772114-114838.JPG     75    67\n",
       "5403  2269197570-188935.JPG     23    67\n",
       "5404  2269197570-188935.JPG     23    67\n",
       "\n",
       "[5405 rows x 3 columns]"
      ]
     },
     "execution_count": 24,
     "metadata": {},
     "output_type": "execute_result"
    }
   ],
   "source": [
    "df_all = pd.merge(df, df_preds, on='image')\n",
    "df_all"
   ]
  },
  {
   "cell_type": "code",
   "execution_count": 25,
   "id": "a34844ca-54fc-4e84-bcad-7aba7615b8d1",
   "metadata": {},
   "outputs": [],
   "source": [
    "from sklearn import metrics"
   ]
  },
  {
   "cell_type": "code",
   "execution_count": 26,
   "id": "258f0d01-9739-44a8-8667-770492a3c38e",
   "metadata": {},
   "outputs": [],
   "source": [
    "m = metrics.confusion_matrix(df_all['class'], df_all['pred'])"
   ]
  },
  {
   "cell_type": "code",
   "execution_count": 27,
   "id": "f930c711-78d8-456b-a1cf-9b5f2276a13d",
   "metadata": {},
   "outputs": [],
   "source": [
    "# np.where(m[142])"
   ]
  },
  {
   "cell_type": "code",
   "execution_count": 28,
   "id": "b13a780e-63cb-419f-9933-17949b1d57a2",
   "metadata": {},
   "outputs": [
    {
     "data": {
      "image/png": "[encoded data removed]",
      "text/plain": [
       "<Figure size 1080x1080 with 1 Axes>"
      ]
     },
     "metadata": {
      "needs_background": "light"
     },
     "output_type": "display_data"
    }
   ],
   "source": [
    "fig, ax = plt.subplots(1,1, figsize=(15, 15))\n",
    "ax.imshow(np.log(m + 0.0005))\n",
    "plt.show()"
   ]
  },
  {
   "cell_type": "code",
   "execution_count": 29,
   "id": "f2c567e5-7960-4fbe-a280-9d4de18f5c78",
   "metadata": {},
   "outputs": [
    {
     "name": "stderr",
     "output_type": "stream",
     "text": [
      "C:\\Users\\nje\\AppData\\Local\\Temp/ipykernel_16532/994953485.py:1: RuntimeWarning: invalid value encountered in true_divide\n",
      "  plt.plot(np.diagonal(m) / m.sum(0))\n"
     ]
    },
    {
     "data": {
      "text/plain": [
       "[<matplotlib.lines.Line2D at 0x23e9a7789d0>]"
      ]
     },
     "execution_count": 29,
     "metadata": {},
     "output_type": "execute_result"
    },
    {
     "data": {
      "image/png": "[encoded data removed]",
      "text/plain": [
       "<Figure size 432x288 with 1 Axes>"
      ]
     },
     "metadata": {
      "needs_background": "light"
     },
     "output_type": "display_data"
    }
   ],
   "source": [
    "plt.plot(np.diagonal(m) / m.sum(0))"
   ]
  },
  {
   "cell_type": "code",
   "execution_count": 30,
   "id": "88036750-5e08-4513-8227-223c84603b75",
   "metadata": {},
   "outputs": [
    {
     "name": "stderr",
     "output_type": "stream",
     "text": [
      "C:\\Users\\nje\\AppData\\Local\\Temp/ipykernel_16532/3477649289.py:1: RuntimeWarning: invalid value encountered in true_divide\n",
      "  np.nanargmin((np.diagonal(m) / m.sum(0))[100:125]) + 100\n"
     ]
    },
    {
     "data": {
      "text/plain": [
       "107"
      ]
     },
     "execution_count": 30,
     "metadata": {},
     "output_type": "execute_result"
    }
   ],
   "source": [
    "np.nanargmin((np.diagonal(m) / m.sum(0))[100:125]) + 100"
   ]
  },
  {
   "cell_type": "code",
   "execution_count": 31,
   "id": "b71b3838-7808-4d6d-93f2-04f589bee8ef",
   "metadata": {},
   "outputs": [
    {
     "data": {
      "text/plain": [
       "[<matplotlib.lines.Line2D at 0x23e9a7e6910>]"
      ]
     },
     "execution_count": 31,
     "metadata": {},
     "output_type": "execute_result"
    },
    {
     "data": {
      "image/png": "[encoded data removed]",
      "text/plain": [
       "<Figure size 432x288 with 1 Axes>"
      ]
     },
     "metadata": {
      "needs_background": "light"
     },
     "output_type": "display_data"
    }
   ],
   "source": [
    "plt.plot(np.diagonal(m) / m.sum(1))"
   ]
  },
  {
   "cell_type": "code",
   "execution_count": 32,
   "id": "ee9b3f70-470b-4607-a878-20f79121c906",
   "metadata": {},
   "outputs": [
    {
     "data": {
      "text/plain": [
       "882"
      ]
     },
     "execution_count": 32,
     "metadata": {},
     "output_type": "execute_result"
    }
   ],
   "source": [
    "m[:, 67].sum()"
   ]
  },
  {
   "cell_type": "code",
   "execution_count": 33,
   "id": "e90edf80-e59e-41b3-9fc1-64d9998cc338",
   "metadata": {},
   "outputs": [
    {
     "data": {
      "text/plain": [
       "431"
      ]
     },
     "execution_count": 33,
     "metadata": {},
     "output_type": "execute_result"
    }
   ],
   "source": [
    "m[:, 107].sum()"
   ]
  },
  {
   "cell_type": "code",
   "execution_count": 34,
   "id": "12057faa-9794-4658-8f5c-dd430685b0be",
   "metadata": {},
   "outputs": [
    {
     "data": {
      "text/plain": [
       "62"
      ]
     },
     "execution_count": 34,
     "metadata": {},
     "output_type": "execute_result"
    }
   ],
   "source": [
    "m[:, 75].sum()"
   ]
  },
  {
   "cell_type": "code",
   "execution_count": 35,
   "id": "50f9ac48-aaf1-43c0-83be-3976c6a36a47",
   "metadata": {},
   "outputs": [
    {
     "data": {
      "text/plain": [
       "79"
      ]
     },
     "execution_count": 35,
     "metadata": {},
     "output_type": "execute_result"
    }
   ],
   "source": [
    "m[:, 51].sum()"
   ]
  },
  {
   "cell_type": "code",
   "execution_count": 36,
   "id": "57f3d192-51bb-4087-8e41-1bb99b36df89",
   "metadata": {},
   "outputs": [
    {
     "data": {
      "text/plain": [
       "133"
      ]
     },
     "execution_count": 36,
     "metadata": {},
     "output_type": "execute_result"
    }
   ],
   "source": [
    "m[:, 56].sum()"
   ]
  },
  {
   "cell_type": "code",
   "execution_count": 37,
   "id": "76b4f97f-0974-4f6c-9b7e-7ea3260ea03a",
   "metadata": {},
   "outputs": [
    {
     "data": {
      "text/plain": [
       "[<matplotlib.lines.Line2D at 0x23e9a8578b0>]"
      ]
     },
     "execution_count": 37,
     "metadata": {},
     "output_type": "execute_result"
    },
    {
     "data": {
      "image/png": "[encoded data removed]",
      "text/plain": [
       "<Figure size 432x288 with 1 Axes>"
      ]
     },
     "metadata": {
      "needs_background": "light"
     },
     "output_type": "display_data"
    }
   ],
   "source": [
    "plt.plot(m.sum(0))"
   ]
  },
  {
   "cell_type": "code",
   "execution_count": 38,
   "id": "65bfef57-defa-4fec-b50b-dca22a7cdb24",
   "metadata": {},
   "outputs": [
    {
     "data": {
      "text/plain": [
       "(array([  1,  15,  16,  21,  27,  34,  51,  56,  57,  65,  67,  69,  75,\n",
       "         78,  86,  87,  89, 105, 107, 116, 130, 138, 151, 155, 162, 171],\n",
       "       dtype=int64),)"
      ]
     },
     "execution_count": 38,
     "metadata": {},
     "output_type": "execute_result"
    }
   ],
   "source": [
    "np.where(m.sum(0) > 50)"
   ]
  },
  {
   "cell_type": "code",
   "execution_count": 39,
   "id": "4c0425a5-a404-4bcb-b599-6f503b2b4d06",
   "metadata": {},
   "outputs": [
    {
     "data": {
      "text/plain": [
       "(array([67], dtype=int64),)"
      ]
     },
     "execution_count": 39,
     "metadata": {},
     "output_type": "execute_result"
    }
   ],
   "source": [
    "np.where(m.sum(0) / m.sum(1) > 10)"
   ]
  },
  {
   "cell_type": "code",
   "execution_count": 40,
   "id": "6cd87655-0563-4d36-9cd8-0227e26deaa6",
   "metadata": {},
   "outputs": [
    {
     "data": {
      "text/plain": [
       "[<matplotlib.lines.Line2D at 0x23e9a8aecd0>]"
      ]
     },
     "execution_count": 40,
     "metadata": {},
     "output_type": "execute_result"
    },
    {
     "data": {
      "image/png": "[encoded data removed]",
      "text/plain": [
       "<Figure size 432x288 with 1 Axes>"
      ]
     },
     "metadata": {
      "needs_background": "light"
     },
     "output_type": "display_data"
    }
   ],
   "source": [
    "plt.plot(m.sum(0) / m.sum(1))"
   ]
  },
  {
   "cell_type": "code",
   "execution_count": 41,
   "id": "246ab41b-726d-40c0-9876-8cf94f9d4352",
   "metadata": {},
   "outputs": [
    {
     "name": "stdout",
     "output_type": "stream",
     "text": [
      "              precision    recall  f1-score   support\n",
      "\n",
      "           0       0.38      0.60      0.46        25\n",
      "           1       0.70      0.46      0.55       101\n",
      "           2       0.89      0.68      0.77        37\n",
      "           3       1.00      0.80      0.89         5\n",
      "           4       1.00      0.19      0.32        26\n",
      "           5       0.75      0.11      0.19        54\n",
      "           6       0.40      0.29      0.33        35\n",
      "           7       1.00      0.30      0.47        33\n",
      "           8       0.00      0.00      0.00        37\n",
      "           9       0.73      0.31      0.43        36\n",
      "          10       0.72      0.37      0.49        49\n",
      "          11       0.65      0.42      0.51        31\n",
      "          12       0.91      0.42      0.57        24\n",
      "          13       0.68      0.42      0.52        66\n",
      "          14       0.56      0.36      0.44        74\n",
      "          15       0.81      0.45      0.58       128\n",
      "          16       0.78      0.77      0.78        52\n",
      "          17       0.64      0.44      0.52        48\n",
      "          18       0.00      0.00      0.00        47\n",
      "          19       0.85      0.39      0.54        28\n",
      "          20       0.80      0.50      0.62         8\n",
      "          21       0.79      0.44      0.56       109\n",
      "          22       0.62      0.56      0.59         9\n",
      "          23       0.68      0.27      0.39        63\n",
      "          24       0.78      0.52      0.62        27\n",
      "          25       0.71      0.65      0.68        23\n",
      "          26       0.70      0.46      0.55        35\n",
      "          27       0.78      0.40      0.53       108\n",
      "          28       0.00      0.00      0.00         3\n",
      "          29       0.50      0.18      0.26        34\n",
      "          30       0.39      0.52      0.44        27\n",
      "          31       0.90      0.69      0.78        51\n",
      "          32       0.30      0.71      0.43        14\n",
      "          33       0.46      0.57      0.51        21\n",
      "          34       0.89      0.93      0.91        92\n",
      "          35       0.26      0.53      0.35        17\n",
      "          36       0.53      0.51      0.52        35\n",
      "          37       1.00      0.08      0.15        37\n",
      "          38       0.82      0.32      0.46        28\n",
      "          39       1.00      0.43      0.60         7\n",
      "          40       0.36      0.57      0.44         7\n",
      "          41       0.46      0.55      0.50        11\n",
      "          42       0.60      0.56      0.58        27\n",
      "          43       1.00      0.25      0.40         8\n",
      "          44       0.57      0.74      0.64        23\n",
      "          45       0.91      0.55      0.68        53\n",
      "          46       0.72      0.68      0.70        19\n",
      "          47       0.40      0.25      0.31         8\n",
      "          48       0.47      0.58      0.52        24\n",
      "          49       0.88      0.88      0.88         8\n",
      "          50       0.45      0.63      0.52        27\n",
      "          51       0.48      0.46      0.47        82\n",
      "          52       0.86      0.43      0.57        28\n",
      "          53       0.57      0.59      0.58        27\n",
      "          54       0.67      0.46      0.55        13\n",
      "          55       0.83      0.31      0.45        16\n",
      "          56       0.77      0.51      0.61       202\n",
      "          57       0.56      0.58      0.57        55\n",
      "          58       0.84      0.57      0.68        47\n",
      "          59       0.61      0.81      0.69        31\n",
      "          60       0.75      0.60      0.67        10\n",
      "          61       0.83      0.25      0.38        40\n",
      "          62       0.60      0.11      0.18        28\n",
      "          63       1.00      0.25      0.40         8\n",
      "          64       0.78      0.18      0.29        39\n",
      "          65       0.68      0.68      0.68        74\n",
      "          66       0.46      0.86      0.60         7\n",
      "          67       0.01      0.59      0.02        17\n",
      "          68       0.75      0.14      0.24        43\n",
      "          69       0.51      0.64      0.57        56\n",
      "          70       1.00      0.10      0.18        31\n",
      "          71       1.00      0.17      0.30        23\n",
      "          72       1.00      0.05      0.10        20\n",
      "          73       0.40      0.21      0.27        29\n",
      "          74       0.63      0.34      0.44        35\n",
      "          75       0.40      0.37      0.38        68\n",
      "          76       0.50      0.12      0.20         8\n",
      "          77       0.40      0.50      0.44        20\n",
      "          78       0.59      0.66      0.62        68\n",
      "          79       0.50      0.41      0.45        32\n",
      "          80       0.75      0.09      0.15        35\n",
      "          81       0.72      0.37      0.49        35\n",
      "          82       0.73      0.55      0.62        44\n",
      "          83       0.58      0.62      0.60        24\n",
      "          84       0.62      0.56      0.59        27\n",
      "          85       0.93      0.56      0.70        25\n",
      "          86       0.74      0.57      0.65       112\n",
      "          87       0.73      0.63      0.68       111\n",
      "          88       1.00      0.75      0.86         4\n",
      "          89       0.25      0.62      0.36        24\n",
      "          90       0.88      0.49      0.63        61\n",
      "          91       0.57      0.44      0.50        27\n",
      "          92       0.31      0.29      0.30        17\n",
      "          93       0.40      0.50      0.44        12\n",
      "          94       0.65      0.92      0.76        12\n",
      "          95       1.00      0.10      0.18        10\n",
      "          96       0.87      0.57      0.69        47\n",
      "          97       0.47      0.30      0.37        30\n",
      "          98       0.55      0.67      0.60         9\n",
      "          99       1.00      0.43      0.60         7\n",
      "         100       0.65      0.62      0.63        21\n",
      "         101       0.60      0.60      0.60        10\n",
      "         102       0.62      0.73      0.67        11\n",
      "         103       0.64      0.68      0.66        47\n",
      "         104       0.75      0.30      0.43        10\n",
      "         105       0.39      0.84      0.54        44\n",
      "         106       0.69      0.58      0.63        19\n",
      "         107       0.20      0.76      0.32       113\n",
      "         108       0.82      0.82      0.82        17\n",
      "         109       0.73      0.35      0.48        31\n",
      "         110       0.64      0.29      0.40        56\n",
      "         111       0.80      0.44      0.57         9\n",
      "         112       0.55      0.86      0.67        28\n",
      "         113       0.83      0.45      0.59        33\n",
      "         114       0.63      0.43      0.51        51\n",
      "         115       0.85      0.69      0.76        48\n",
      "         116       0.49      0.74      0.59        42\n",
      "         117       1.00      0.25      0.40         8\n",
      "         118       0.00      0.00      0.00        14\n",
      "         119       0.87      0.60      0.71        43\n",
      "         120       0.67      0.67      0.67         6\n",
      "         121       0.74      0.77      0.75        30\n",
      "         122       0.59      0.81      0.69        27\n",
      "         123       0.43      0.38      0.40         8\n",
      "         124       0.48      0.38      0.43        26\n",
      "         125       1.00      0.13      0.24        15\n",
      "         126       0.12      0.44      0.20         9\n",
      "         127       0.40      0.12      0.19        16\n",
      "         128       1.00      0.46      0.63        13\n",
      "         129       0.88      0.37      0.52        19\n",
      "         130       0.37      0.73      0.49        30\n",
      "         131       0.75      0.60      0.67         5\n",
      "         132       0.60      0.60      0.60        10\n",
      "         133       0.60      0.50      0.55         6\n",
      "         134       1.00      0.07      0.13        14\n",
      "         135       0.50      0.75      0.60         4\n",
      "         136       1.00      0.07      0.14        27\n",
      "         137       1.00      0.17      0.29        12\n",
      "         138       0.62      0.89      0.73        38\n",
      "         139       0.80      0.44      0.57         9\n",
      "         140       0.55      0.36      0.44        33\n",
      "         141       0.50      0.33      0.40         3\n",
      "         142       0.36      0.45      0.40        11\n",
      "         143       0.91      0.50      0.65        20\n",
      "         144       0.50      0.12      0.20         8\n",
      "         145       0.83      0.38      0.53        13\n",
      "         146       1.00      0.33      0.50         6\n",
      "         147       0.50      0.50      0.50         6\n",
      "         148       0.67      0.44      0.53         9\n",
      "         149       0.00      0.00      0.00         8\n",
      "         150       0.50      0.64      0.56        11\n",
      "         151       0.79      0.76      0.78        91\n",
      "         152       0.83      0.42      0.56        12\n",
      "         153       0.56      0.33      0.42        15\n",
      "         154       0.59      0.74      0.65        23\n",
      "         155       0.11      0.59      0.18        17\n",
      "         156       0.80      0.27      0.40        30\n",
      "         157       0.00      0.00      0.00         9\n",
      "         158       1.00      0.33      0.50        12\n",
      "         159       1.00      0.43      0.60         7\n",
      "         160       1.00      0.40      0.57         5\n",
      "         161       1.00      0.43      0.60         7\n",
      "         162       0.22      0.70      0.33        23\n",
      "         163       0.77      0.71      0.74        14\n",
      "         164       0.67      1.00      0.80         4\n",
      "         165       0.44      0.64      0.52        11\n",
      "         166       0.67      0.80      0.73         5\n",
      "         167       0.71      0.71      0.71         7\n",
      "         168       0.80      0.16      0.26        51\n",
      "         169       0.67      0.29      0.40         7\n",
      "         170       0.20      0.45      0.28        22\n",
      "         171       0.84      0.69      0.75       121\n",
      "         172       1.00      0.50      0.67         6\n",
      "         173       0.67      0.57      0.62         7\n",
      "         174       1.00      0.20      0.33         5\n",
      "         175       0.62      0.50      0.56        10\n",
      "         176       1.00      0.67      0.80         3\n",
      "         177       0.43      0.30      0.35        10\n",
      "         178       1.00      0.36      0.53        14\n",
      "         179       0.50      0.22      0.31         9\n",
      "         180       0.00      0.00      0.00         1\n",
      "         181       1.00      0.50      0.67         2\n",
      "         182       1.00      0.33      0.50         9\n",
      "\n",
      "    accuracy                           0.49      5405\n",
      "   macro avg       0.66      0.46      0.49      5405\n",
      "weighted avg       0.67      0.49      0.52      5405\n",
      "\n"
     ]
    },
    {
     "name": "stderr",
     "output_type": "stream",
     "text": [
      "C:\\Users\\nje\\Miniconda3\\envs\\MachineLearning\\lib\\site-packages\\sklearn\\metrics\\_classification.py:1308: UndefinedMetricWarning: Precision and F-score are ill-defined and being set to 0.0 in labels with no predicted samples. Use `zero_division` parameter to control this behavior.\n",
      "  _warn_prf(average, modifier, msg_start, len(result))\n",
      "C:\\Users\\nje\\Miniconda3\\envs\\MachineLearning\\lib\\site-packages\\sklearn\\metrics\\_classification.py:1308: UndefinedMetricWarning: Precision and F-score are ill-defined and being set to 0.0 in labels with no predicted samples. Use `zero_division` parameter to control this behavior.\n",
      "  _warn_prf(average, modifier, msg_start, len(result))\n",
      "C:\\Users\\nje\\Miniconda3\\envs\\MachineLearning\\lib\\site-packages\\sklearn\\metrics\\_classification.py:1308: UndefinedMetricWarning: Precision and F-score are ill-defined and being set to 0.0 in labels with no predicted samples. Use `zero_division` parameter to control this behavior.\n",
      "  _warn_prf(average, modifier, msg_start, len(result))\n"
     ]
    }
   ],
   "source": [
    "print(metrics.classification_report(df_all['class'], df_all['pred']))"
   ]
  },
  {
   "cell_type": "code",
   "execution_count": null,
   "id": "73e11793-5fc4-4ed3-9975-0ac95367e0cc",
   "metadata": {},
   "outputs": [],
   "source": []
  }
 ],
 "metadata": {
  "kernelspec": {
   "display_name": "Python 3 (ipykernel)",
   "language": "python",
   "name": "python3"
  },
  "language_info": {
   "codemirror_mode": {
    "name": "ipython",
    "version": 3
   },
   "file_extension": ".py",
   "mimetype": "text/x-python",
   "name": "python",
   "nbconvert_exporter": "python",
   "pygments_lexer": "ipython3",
   "version": "3.9.7"
  }
 },
 "nbformat": 4,
 "nbformat_minor": 5
}
