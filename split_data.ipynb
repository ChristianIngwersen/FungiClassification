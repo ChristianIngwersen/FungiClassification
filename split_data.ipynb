{
 "cells": [
  {
   "cell_type": "code",
   "execution_count": 1,
   "id": "ea2e611e-23ee-4604-8997-bcf97e98c1e6",
   "metadata": {},
   "outputs": [],
   "source": [
    "import pickle\n",
    "import os\n",
    "import shutil\n",
    "import pandas as pd\n",
    "import numpy as np\n",
    "\n",
    "from tqdm import tqdm"
   ]
  },
  {
   "cell_type": "code",
   "execution_count": 2,
   "id": "eed2f33d-41d1-4f64-ab19-37194ef7f8dc",
   "metadata": {},
   "outputs": [],
   "source": [
    "data_path = r'C:\\Users\\nje\\OneDrive - Danmarks Tekniske Universitet\\Summer school 2022\\data\\DF20M'"
   ]
  },
  {
   "cell_type": "code",
   "execution_count": 3,
   "id": "c2258589-eca1-4ddb-8756-3e35c71a4336",
   "metadata": {},
   "outputs": [
    {
     "data": {
      "text/html": [
       "<div>\n",
       "<style scoped>\n",
       "    .dataframe tbody tr th:only-of-type {\n",
       "        vertical-align: middle;\n",
       "    }\n",
       "\n",
       "    .dataframe tbody tr th {\n",
       "        vertical-align: top;\n",
       "    }\n",
       "\n",
       "    .dataframe thead th {\n",
       "        text-align: right;\n",
       "    }\n",
       "</style>\n",
       "<table border=\"1\" class=\"dataframe\">\n",
       "  <thead>\n",
       "    <tr style=\"text-align: right;\">\n",
       "      <th></th>\n",
       "      <th>image</th>\n",
       "      <th>class</th>\n",
       "    </tr>\n",
       "  </thead>\n",
       "  <tbody>\n",
       "    <tr>\n",
       "      <th>0</th>\n",
       "      <td>2237852381-222754.JPG</td>\n",
       "      <td>0</td>\n",
       "    </tr>\n",
       "    <tr>\n",
       "      <th>1</th>\n",
       "      <td>2237852388-108.JPG</td>\n",
       "      <td>0</td>\n",
       "    </tr>\n",
       "    <tr>\n",
       "      <th>2</th>\n",
       "      <td>2237852964-74877.JPG</td>\n",
       "      <td>1</td>\n",
       "    </tr>\n",
       "    <tr>\n",
       "      <th>3</th>\n",
       "      <td>2237853192-298146.JPG</td>\n",
       "      <td>2</td>\n",
       "    </tr>\n",
       "    <tr>\n",
       "      <th>4</th>\n",
       "      <td>2237853950-148876.JPG</td>\n",
       "      <td>2</td>\n",
       "    </tr>\n",
       "    <tr>\n",
       "      <th>...</th>\n",
       "      <td>...</td>\n",
       "      <td>...</td>\n",
       "    </tr>\n",
       "    <tr>\n",
       "      <th>3191</th>\n",
       "      <td>2994402316-297758.JPG</td>\n",
       "      <td>165</td>\n",
       "    </tr>\n",
       "    <tr>\n",
       "      <th>3192</th>\n",
       "      <td>2994402327-372653.JPG</td>\n",
       "      <td>31</td>\n",
       "    </tr>\n",
       "    <tr>\n",
       "      <th>3193</th>\n",
       "      <td>2994403350-222575.JPG</td>\n",
       "      <td>34</td>\n",
       "    </tr>\n",
       "    <tr>\n",
       "      <th>3194</th>\n",
       "      <td>2994405342-372717.JPG</td>\n",
       "      <td>115</td>\n",
       "    </tr>\n",
       "    <tr>\n",
       "      <th>3195</th>\n",
       "      <td>2994406327-372730.JPG</td>\n",
       "      <td>58</td>\n",
       "    </tr>\n",
       "  </tbody>\n",
       "</table>\n",
       "<p>3196 rows × 2 columns</p>\n",
       "</div>"
      ],
      "text/plain": [
       "                      image  class\n",
       "0     2237852381-222754.JPG      0\n",
       "1        2237852388-108.JPG      0\n",
       "2      2237852964-74877.JPG      1\n",
       "3     2237853192-298146.JPG      2\n",
       "4     2237853950-148876.JPG      2\n",
       "...                     ...    ...\n",
       "3191  2994402316-297758.JPG    165\n",
       "3192  2994402327-372653.JPG     31\n",
       "3193  2994403350-222575.JPG     34\n",
       "3194  2994405342-372717.JPG    115\n",
       "3195  2994406327-372730.JPG     58\n",
       "\n",
       "[3196 rows x 2 columns]"
      ]
     },
     "execution_count": 3,
     "metadata": {},
     "output_type": "execute_result"
    }
   ],
   "source": [
    "with open(\"data_sort.pickle\", \"rb\") as fp:\n",
    "    data = pickle.load(fp)\n",
    "\n",
    "im_names = data[\"ims\"]\n",
    "pred_labels = data[\"preds\"]\n",
    "out_dir = \"../sort_fungi_v1\"\n",
    "\n",
    "data_csv_path = \"data_with_labels.csv\"\n",
    "df = pd.read_csv(data_csv_path, delimiter=\",\")\n",
    "df[\"image\"] = df[\"image\"].str.replace(\"/work1/niejep/SummerSchoolChallenge2022/fungiimages/DF20M/\", \"\")\n",
    "df"
   ]
  },
  {
   "cell_type": "code",
   "execution_count": 4,
   "id": "9bab0a1d-c6e8-41a3-aa4b-836a08b7b482",
   "metadata": {},
   "outputs": [
    {
     "name": "stderr",
     "output_type": "stream",
     "text": [
      "100%|█████████████████████████████████████████████████████████████████████████████████████████████████████████| 36393/36393 [01:40<00:00, 361.86it/s]\n"
     ]
    }
   ],
   "source": [
    "if not os.path.isdir(out_dir):\n",
    "    os.mkdir(out_dir)\n",
    "    for i in range(183):\n",
    "        os.mkdir(os.path.join(out_dir, str(i)))\n",
    "\n",
    "for im_name, label in tqdm(zip(im_names, pred_labels), total=len(im_names)):\n",
    "    label = f\"{label}\"\n",
    "    if im_name in df.values[:, 0]:\n",
    "        label = f\"{ df.values[np.where(im_name == df.values[:, 0])[0][0], 1]}\"\n",
    "        shutil.copyfile(os.path.join(data_path, im_name), os.path.join(out_dir, f\"{label}\", \"0__\" + im_name))\n",
    "    else:\n",
    "        shutil.copyfile(os.path.join(data_path, im_name), os.path.join(out_dir, f\"{label}\", im_name))"
   ]
  },
  {
   "cell_type": "code",
   "execution_count": null,
   "id": "c779b105-c075-4db4-8dbb-a66511154e09",
   "metadata": {},
   "outputs": [],
   "source": []
  }
 ],
 "metadata": {
  "kernelspec": {
   "display_name": "Python 3 (ipykernel)",
   "language": "python",
   "name": "python3"
  },
  "language_info": {
   "codemirror_mode": {
    "name": "ipython",
    "version": 3
   },
   "file_extension": ".py",
   "mimetype": "text/x-python",
   "name": "python",
   "nbconvert_exporter": "python",
   "pygments_lexer": "ipython3",
   "version": "3.9.7"
  }
 },
 "nbformat": 4,
 "nbformat_minor": 5
}
